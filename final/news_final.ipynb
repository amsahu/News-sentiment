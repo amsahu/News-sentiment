{
 "cells": [
  {
   "cell_type": "code",
   "execution_count": null,
   "metadata": {
    "id": "5LgxOrvyJ8UL"
   },
   "outputs": [],
   "source": []
  },
  {
   "cell_type": "code",
   "execution_count": 1,
   "metadata": {
    "colab": {
     "base_uri": "https://localhost:8080/"
    },
    "executionInfo": {
     "elapsed": 24415,
     "status": "ok",
     "timestamp": 1630405273116,
     "user": {
      "displayName": "Anshuman Sahu",
      "photoUrl": "https://lh3.googleusercontent.com/a-/AOh14Gg_F2kTM03kFCTaJIqCiFiEFKmADKcJvwiPZYCb=s64",
      "userId": "08186410225154793586"
     },
     "user_tz": -330
    },
    "id": "wnKDZSDWKFAp",
    "outputId": "6049433a-ab03-4497-a90c-79baf66b7e39"
   },
   "outputs": [
    {
     "name": "stdout",
     "output_type": "stream",
     "text": [
      "Mounted at /content/drive\n"
     ]
    }
   ],
   "source": [
    "from google.colab import drive\n",
    "drive.mount('/content/drive')"
   ]
  },
  {
   "cell_type": "code",
   "execution_count": 2,
   "metadata": {
    "colab": {
     "base_uri": "https://localhost:8080/"
    },
    "executionInfo": {
     "elapsed": 809,
     "status": "ok",
     "timestamp": 1630405279745,
     "user": {
      "displayName": "Anshuman Sahu",
      "photoUrl": "https://lh3.googleusercontent.com/a-/AOh14Gg_F2kTM03kFCTaJIqCiFiEFKmADKcJvwiPZYCb=s64",
      "userId": "08186410225154793586"
     },
     "user_tz": -330
    },
    "id": "y35r6xydJ9RW",
    "outputId": "888eece8-54bd-4fdf-ef22-15551392a612"
   },
   "outputs": [
    {
     "name": "stdout",
     "output_type": "stream",
     "text": [
      "/content\n"
     ]
    }
   ],
   "source": [
    "!pwd"
   ]
  },
  {
   "cell_type": "markdown",
   "metadata": {
    "id": "pYuasIapukr_"
   },
   "source": [
    "# Imports"
   ]
  },
  {
   "cell_type": "code",
   "execution_count": 3,
   "metadata": {
    "executionInfo": {
     "elapsed": 2183,
     "status": "ok",
     "timestamp": 1630405294079,
     "user": {
      "displayName": "Anshuman Sahu",
      "photoUrl": "https://lh3.googleusercontent.com/a-/AOh14Gg_F2kTM03kFCTaJIqCiFiEFKmADKcJvwiPZYCb=s64",
      "userId": "08186410225154793586"
     },
     "user_tz": -330
    },
    "id": "lrywxmASJ9Uf"
   },
   "outputs": [],
   "source": [
    "import os\n",
    "import numpy as np\n",
    "import pandas as pd\n",
    "import matplotlib.pyplot as plt\n",
    "import tensorflow as tf"
   ]
  },
  {
   "cell_type": "code",
   "execution_count": 4,
   "metadata": {
    "colab": {
     "base_uri": "https://localhost:8080/",
     "height": 35
    },
    "executionInfo": {
     "elapsed": 548,
     "status": "ok",
     "timestamp": 1630405299279,
     "user": {
      "displayName": "Anshuman Sahu",
      "photoUrl": "https://lh3.googleusercontent.com/a-/AOh14Gg_F2kTM03kFCTaJIqCiFiEFKmADKcJvwiPZYCb=s64",
      "userId": "08186410225154793586"
     },
     "user_tz": -330
    },
    "id": "AcDJGmokJ9Xb",
    "outputId": "5a053e7b-e09a-4609-8011-4613470129e3"
   },
   "outputs": [
    {
     "data": {
      "application/vnd.google.colaboratory.intrinsic+json": {
       "type": "string"
      },
      "text/plain": [
       "'/content/drive/MyDrive/python/zs news'"
      ]
     },
     "execution_count": 4,
     "metadata": {},
     "output_type": "execute_result"
    }
   ],
   "source": [
    "os.chdir('/content/drive/MyDrive/python/zs news/')\n",
    "os.getcwd()"
   ]
  },
  {
   "cell_type": "markdown",
   "metadata": {
    "id": "Jus3tZXeK1rd"
   },
   "source": [
    "# Read Data"
   ]
  },
  {
   "cell_type": "code",
   "execution_count": 5,
   "metadata": {
    "colab": {
     "base_uri": "https://localhost:8080/"
    },
    "executionInfo": {
     "elapsed": 3882,
     "status": "ok",
     "timestamp": 1630405308424,
     "user": {
      "displayName": "Anshuman Sahu",
      "photoUrl": "https://lh3.googleusercontent.com/a-/AOh14Gg_F2kTM03kFCTaJIqCiFiEFKmADKcJvwiPZYCb=s64",
      "userId": "08186410225154793586"
     },
     "user_tz": -330
    },
    "id": "NN0f24QlJ9ad",
    "outputId": "aeaf6584-bb09-4414-86db-d98cc04fea6b"
   },
   "outputs": [
    {
     "name": "stdout",
     "output_type": "stream",
     "text": [
      "(55932, 11) (37288, 9)\n"
     ]
    }
   ],
   "source": [
    "train = pd.read_csv('/content/drive/MyDrive/python/zs news/train_file.csv')\n",
    "test = pd.read_csv('/content/drive/MyDrive/python/zs news/test_file.csv')\n",
    "print(train.shape, test.shape)"
   ]
  },
  {
   "cell_type": "code",
   "execution_count": 6,
   "metadata": {
    "colab": {
     "base_uri": "https://localhost:8080/",
     "height": 375
    },
    "executionInfo": {
     "elapsed": 556,
     "status": "ok",
     "timestamp": 1630405311237,
     "user": {
      "displayName": "Anshuman Sahu",
      "photoUrl": "https://lh3.googleusercontent.com/a-/AOh14Gg_F2kTM03kFCTaJIqCiFiEFKmADKcJvwiPZYCb=s64",
      "userId": "08186410225154793586"
     },
     "user_tz": -330
    },
    "id": "E8-SF7JIKzf2",
    "outputId": "58600c1d-7c10-42e0-e770-a8e844c95607"
   },
   "outputs": [
    {
     "data": {
      "text/html": [
       "<div>\n",
       "<style scoped>\n",
       "    .dataframe tbody tr th:only-of-type {\n",
       "        vertical-align: middle;\n",
       "    }\n",
       "\n",
       "    .dataframe tbody tr th {\n",
       "        vertical-align: top;\n",
       "    }\n",
       "\n",
       "    .dataframe thead th {\n",
       "        text-align: right;\n",
       "    }\n",
       "</style>\n",
       "<table border=\"1\" class=\"dataframe\">\n",
       "  <thead>\n",
       "    <tr style=\"text-align: right;\">\n",
       "      <th></th>\n",
       "      <th>IDLink</th>\n",
       "      <th>Title</th>\n",
       "      <th>Headline</th>\n",
       "      <th>Source</th>\n",
       "      <th>Topic</th>\n",
       "      <th>PublishDate</th>\n",
       "      <th>Facebook</th>\n",
       "      <th>GooglePlus</th>\n",
       "      <th>LinkedIn</th>\n",
       "      <th>SentimentTitle</th>\n",
       "      <th>SentimentHeadline</th>\n",
       "    </tr>\n",
       "  </thead>\n",
       "  <tbody>\n",
       "    <tr>\n",
       "      <th>0</th>\n",
       "      <td>Tr3CMgRv1N</td>\n",
       "      <td>Obama Lays Wreath at Arlington National Cemetery</td>\n",
       "      <td>Obama Lays Wreath at Arlington National Cemete...</td>\n",
       "      <td>USA TODAY</td>\n",
       "      <td>obama</td>\n",
       "      <td>2002-04-02 00:00:00</td>\n",
       "      <td>-1</td>\n",
       "      <td>-1</td>\n",
       "      <td>-1</td>\n",
       "      <td>0.000000</td>\n",
       "      <td>-0.053300</td>\n",
       "    </tr>\n",
       "    <tr>\n",
       "      <th>1</th>\n",
       "      <td>Wc81vGp8qZ</td>\n",
       "      <td>A Look at the Health of the Chinese Economy</td>\n",
       "      <td>Tim Haywood, investment director business-unit...</td>\n",
       "      <td>Bloomberg</td>\n",
       "      <td>economy</td>\n",
       "      <td>2008-09-20 00:00:00</td>\n",
       "      <td>-1</td>\n",
       "      <td>-1</td>\n",
       "      <td>-1</td>\n",
       "      <td>0.208333</td>\n",
       "      <td>-0.156386</td>\n",
       "    </tr>\n",
       "    <tr>\n",
       "      <th>2</th>\n",
       "      <td>zNGH03CrZH</td>\n",
       "      <td>Nouriel Roubini: Global Economy Not Back to 2008</td>\n",
       "      <td>Nouriel Roubini, NYU professor and chairman at...</td>\n",
       "      <td>Bloomberg</td>\n",
       "      <td>economy</td>\n",
       "      <td>2012-01-28 00:00:00</td>\n",
       "      <td>-1</td>\n",
       "      <td>-1</td>\n",
       "      <td>-1</td>\n",
       "      <td>-0.425210</td>\n",
       "      <td>0.139754</td>\n",
       "    </tr>\n",
       "    <tr>\n",
       "      <th>3</th>\n",
       "      <td>3sM1H0W8ts</td>\n",
       "      <td>Finland GDP Expands In Q4</td>\n",
       "      <td>Finland's economy expanded marginally in the t...</td>\n",
       "      <td>RTT News</td>\n",
       "      <td>economy</td>\n",
       "      <td>2015-03-01 00:06:00</td>\n",
       "      <td>-1</td>\n",
       "      <td>-1</td>\n",
       "      <td>-1</td>\n",
       "      <td>0.000000</td>\n",
       "      <td>0.026064</td>\n",
       "    </tr>\n",
       "    <tr>\n",
       "      <th>4</th>\n",
       "      <td>wUbnxgvqaZ</td>\n",
       "      <td>Tourism, govt spending buoys Thai economy in J...</td>\n",
       "      <td>Tourism and public spending continued to boost...</td>\n",
       "      <td>The Nation - Thailand&amp;#39;s English news</td>\n",
       "      <td>economy</td>\n",
       "      <td>2015-03-01 00:11:00</td>\n",
       "      <td>-1</td>\n",
       "      <td>-1</td>\n",
       "      <td>-1</td>\n",
       "      <td>0.000000</td>\n",
       "      <td>0.141084</td>\n",
       "    </tr>\n",
       "  </tbody>\n",
       "</table>\n",
       "</div>"
      ],
      "text/plain": [
       "       IDLink  ... SentimentHeadline\n",
       "0  Tr3CMgRv1N  ...         -0.053300\n",
       "1  Wc81vGp8qZ  ...         -0.156386\n",
       "2  zNGH03CrZH  ...          0.139754\n",
       "3  3sM1H0W8ts  ...          0.026064\n",
       "4  wUbnxgvqaZ  ...          0.141084\n",
       "\n",
       "[5 rows x 11 columns]"
      ]
     },
     "execution_count": 6,
     "metadata": {},
     "output_type": "execute_result"
    }
   ],
   "source": [
    "train.head()"
   ]
  },
  {
   "cell_type": "code",
   "execution_count": 7,
   "metadata": {
    "colab": {
     "base_uri": "https://localhost:8080/",
     "height": 290
    },
    "executionInfo": {
     "elapsed": 562,
     "status": "ok",
     "timestamp": 1630405315469,
     "user": {
      "displayName": "Anshuman Sahu",
      "photoUrl": "https://lh3.googleusercontent.com/a-/AOh14Gg_F2kTM03kFCTaJIqCiFiEFKmADKcJvwiPZYCb=s64",
      "userId": "08186410225154793586"
     },
     "user_tz": -330
    },
    "id": "FH4uGSraLa0B",
    "outputId": "1b4a964a-fc52-48d5-e88b-574d8a47618f"
   },
   "outputs": [
    {
     "data": {
      "text/html": [
       "<div>\n",
       "<style scoped>\n",
       "    .dataframe tbody tr th:only-of-type {\n",
       "        vertical-align: middle;\n",
       "    }\n",
       "\n",
       "    .dataframe tbody tr th {\n",
       "        vertical-align: top;\n",
       "    }\n",
       "\n",
       "    .dataframe thead th {\n",
       "        text-align: right;\n",
       "    }\n",
       "</style>\n",
       "<table border=\"1\" class=\"dataframe\">\n",
       "  <thead>\n",
       "    <tr style=\"text-align: right;\">\n",
       "      <th></th>\n",
       "      <th>IDLink</th>\n",
       "      <th>Title</th>\n",
       "      <th>Headline</th>\n",
       "      <th>Source</th>\n",
       "      <th>Topic</th>\n",
       "      <th>PublishDate</th>\n",
       "      <th>Facebook</th>\n",
       "      <th>GooglePlus</th>\n",
       "      <th>LinkedIn</th>\n",
       "    </tr>\n",
       "  </thead>\n",
       "  <tbody>\n",
       "    <tr>\n",
       "      <th>0</th>\n",
       "      <td>tFrqIR6Chj</td>\n",
       "      <td>Sliding Economy: FG fights back with N3trn TSA...</td>\n",
       "      <td>With the 2016 budget now passed by the Nationa...</td>\n",
       "      <td>BusinessDay</td>\n",
       "      <td>economy</td>\n",
       "      <td>2016-03-29 01:41:12</td>\n",
       "      <td>0</td>\n",
       "      <td>0</td>\n",
       "      <td>1</td>\n",
       "    </tr>\n",
       "    <tr>\n",
       "      <th>1</th>\n",
       "      <td>DVAaGErjlF</td>\n",
       "      <td>Microsoft shows how HoloLens can bring distant...</td>\n",
       "      <td>A recent Microsoft Research video shows how th...</td>\n",
       "      <td>Daily Mail</td>\n",
       "      <td>microsoft</td>\n",
       "      <td>2016-03-29 01:41:27</td>\n",
       "      <td>121</td>\n",
       "      <td>2</td>\n",
       "      <td>13</td>\n",
       "    </tr>\n",
       "    <tr>\n",
       "      <th>2</th>\n",
       "      <td>OT9UIZm5M2</td>\n",
       "      <td>Microsoft’s Twitter Robot Praises Hitler, Trum...</td>\n",
       "      <td>* Microsoft teamed with Bing to create TayTwee...</td>\n",
       "      <td>EURweb</td>\n",
       "      <td>microsoft</td>\n",
       "      <td>2016-03-29 01:47:00</td>\n",
       "      <td>12</td>\n",
       "      <td>1</td>\n",
       "      <td>0</td>\n",
       "    </tr>\n",
       "    <tr>\n",
       "      <th>3</th>\n",
       "      <td>lflGp3q2Fj</td>\n",
       "      <td>Flood of Central Bank Moves Can't Get World Ec...</td>\n",
       "      <td>Central bankers have managed to steer the worl...</td>\n",
       "      <td>Bloomberg via Yahoo! Finance</td>\n",
       "      <td>economy</td>\n",
       "      <td>2016-03-29 02:00:00</td>\n",
       "      <td>0</td>\n",
       "      <td>0</td>\n",
       "      <td>3</td>\n",
       "    </tr>\n",
       "    <tr>\n",
       "      <th>4</th>\n",
       "      <td>zDYG0SoovZ</td>\n",
       "      <td>USD/JPY: bears lining up on mixed U.S. economy...</td>\n",
       "      <td>However, this streak of seven-day gains might ...</td>\n",
       "      <td>FXStreet</td>\n",
       "      <td>economy</td>\n",
       "      <td>2016-03-29 02:01:07</td>\n",
       "      <td>3</td>\n",
       "      <td>0</td>\n",
       "      <td>0</td>\n",
       "    </tr>\n",
       "  </tbody>\n",
       "</table>\n",
       "</div>"
      ],
      "text/plain": [
       "       IDLink  ... LinkedIn\n",
       "0  tFrqIR6Chj  ...        1\n",
       "1  DVAaGErjlF  ...       13\n",
       "2  OT9UIZm5M2  ...        0\n",
       "3  lflGp3q2Fj  ...        3\n",
       "4  zDYG0SoovZ  ...        0\n",
       "\n",
       "[5 rows x 9 columns]"
      ]
     },
     "execution_count": 7,
     "metadata": {},
     "output_type": "execute_result"
    }
   ],
   "source": [
    "test.head()"
   ]
  },
  {
   "cell_type": "markdown",
   "metadata": {
    "id": "ORkBPhZ1MFjp"
   },
   "source": [
    "# Prepare training data"
   ]
  },
  {
   "cell_type": "markdown",
   "metadata": {
    "id": "kO35MvknuzVn"
   },
   "source": [
    "Creating single dataframe with text and its sentiment"
   ]
  },
  {
   "cell_type": "code",
   "execution_count": 8,
   "metadata": {
    "colab": {
     "base_uri": "https://localhost:8080/"
    },
    "executionInfo": {
     "elapsed": 565,
     "status": "ok",
     "timestamp": 1630405328617,
     "user": {
      "displayName": "Anshuman Sahu",
      "photoUrl": "https://lh3.googleusercontent.com/a-/AOh14Gg_F2kTM03kFCTaJIqCiFiEFKmADKcJvwiPZYCb=s64",
      "userId": "08186410225154793586"
     },
     "user_tz": -330
    },
    "id": "cSKK2fMILa3D",
    "outputId": "7af9d3e3-493c-4918-9930-64b4d9826714"
   },
   "outputs": [
    {
     "data": {
      "text/plain": [
       "0"
      ]
     },
     "execution_count": 8,
     "metadata": {},
     "output_type": "execute_result"
    }
   ],
   "source": [
    "train.duplicated().sum()"
   ]
  },
  {
   "cell_type": "code",
   "execution_count": 9,
   "metadata": {
    "colab": {
     "base_uri": "https://localhost:8080/"
    },
    "executionInfo": {
     "elapsed": 11,
     "status": "ok",
     "timestamp": 1630405331866,
     "user": {
      "displayName": "Anshuman Sahu",
      "photoUrl": "https://lh3.googleusercontent.com/a-/AOh14Gg_F2kTM03kFCTaJIqCiFiEFKmADKcJvwiPZYCb=s64",
      "userId": "08186410225154793586"
     },
     "user_tz": -330
    },
    "id": "uN4lfHBgLa5_",
    "outputId": "b19cecf7-8176-4ff7-84bb-68b92f83383c"
   },
   "outputs": [
    {
     "data": {
      "text/plain": [
       "Index(['IDLink', 'Title', 'Headline', 'Source', 'Topic', 'PublishDate',\n",
       "       'Facebook', 'GooglePlus', 'LinkedIn', 'SentimentTitle',\n",
       "       'SentimentHeadline'],\n",
       "      dtype='object')"
      ]
     },
     "execution_count": 9,
     "metadata": {},
     "output_type": "execute_result"
    }
   ],
   "source": [
    "train.columns"
   ]
  },
  {
   "cell_type": "code",
   "execution_count": 10,
   "metadata": {
    "colab": {
     "base_uri": "https://localhost:8080/"
    },
    "executionInfo": {
     "elapsed": 556,
     "status": "ok",
     "timestamp": 1630405394631,
     "user": {
      "displayName": "Anshuman Sahu",
      "photoUrl": "https://lh3.googleusercontent.com/a-/AOh14Gg_F2kTM03kFCTaJIqCiFiEFKmADKcJvwiPZYCb=s64",
      "userId": "08186410225154793586"
     },
     "user_tz": -330
    },
    "id": "uG6qjborLbBv",
    "outputId": "c45701b9-fe1b-404b-b97f-1d76225eef36"
   },
   "outputs": [
    {
     "data": {
      "text/plain": [
       "(55932, 2)"
      ]
     },
     "execution_count": 10,
     "metadata": {},
     "output_type": "execute_result"
    }
   ],
   "source": [
    "df1 = train[['Title','SentimentTitle']].copy()\n",
    "df1.columns = ['text','sentiment']\n",
    "df1.shape"
   ]
  },
  {
   "cell_type": "code",
   "execution_count": 11,
   "metadata": {
    "colab": {
     "base_uri": "https://localhost:8080/"
    },
    "executionInfo": {
     "elapsed": 7,
     "status": "ok",
     "timestamp": 1630405397276,
     "user": {
      "displayName": "Anshuman Sahu",
      "photoUrl": "https://lh3.googleusercontent.com/a-/AOh14Gg_F2kTM03kFCTaJIqCiFiEFKmADKcJvwiPZYCb=s64",
      "userId": "08186410225154793586"
     },
     "user_tz": -330
    },
    "id": "5d_64YAvKzi-",
    "outputId": "fd704d2b-cbed-474e-80f9-a7bd67a2cc59"
   },
   "outputs": [
    {
     "data": {
      "text/plain": [
       "(55932, 2)"
      ]
     },
     "execution_count": 11,
     "metadata": {},
     "output_type": "execute_result"
    }
   ],
   "source": [
    "df2 = train[['Headline','SentimentHeadline']].copy()\n",
    "df2.columns = ['text','sentiment']\n",
    "df2.shape"
   ]
  },
  {
   "cell_type": "code",
   "execution_count": 12,
   "metadata": {
    "colab": {
     "base_uri": "https://localhost:8080/"
    },
    "executionInfo": {
     "elapsed": 561,
     "status": "ok",
     "timestamp": 1630405401374,
     "user": {
      "displayName": "Anshuman Sahu",
      "photoUrl": "https://lh3.googleusercontent.com/a-/AOh14Gg_F2kTM03kFCTaJIqCiFiEFKmADKcJvwiPZYCb=s64",
      "userId": "08186410225154793586"
     },
     "user_tz": -330
    },
    "id": "Axf8ZioTJ9db",
    "outputId": "53c777d0-d638-4183-87d9-dca5b5eae5ed"
   },
   "outputs": [
    {
     "data": {
      "text/plain": [
       "(111864, 2)"
      ]
     },
     "execution_count": 12,
     "metadata": {},
     "output_type": "execute_result"
    }
   ],
   "source": [
    "df = pd.concat([df1,df2], axis=0, ignore_index=True)\n",
    "df.shape"
   ]
  },
  {
   "cell_type": "code",
   "execution_count": 13,
   "metadata": {
    "colab": {
     "base_uri": "https://localhost:8080/",
     "height": 204
    },
    "executionInfo": {
     "elapsed": 835,
     "status": "ok",
     "timestamp": 1630405403670,
     "user": {
      "displayName": "Anshuman Sahu",
      "photoUrl": "https://lh3.googleusercontent.com/a-/AOh14Gg_F2kTM03kFCTaJIqCiFiEFKmADKcJvwiPZYCb=s64",
      "userId": "08186410225154793586"
     },
     "user_tz": -330
    },
    "id": "Sw-gsayRMo3-",
    "outputId": "7c23e47d-7d6e-4ab4-8fb5-bf3dfca7dddb"
   },
   "outputs": [
    {
     "data": {
      "text/html": [
       "<div>\n",
       "<style scoped>\n",
       "    .dataframe tbody tr th:only-of-type {\n",
       "        vertical-align: middle;\n",
       "    }\n",
       "\n",
       "    .dataframe tbody tr th {\n",
       "        vertical-align: top;\n",
       "    }\n",
       "\n",
       "    .dataframe thead th {\n",
       "        text-align: right;\n",
       "    }\n",
       "</style>\n",
       "<table border=\"1\" class=\"dataframe\">\n",
       "  <thead>\n",
       "    <tr style=\"text-align: right;\">\n",
       "      <th></th>\n",
       "      <th>text</th>\n",
       "      <th>sentiment</th>\n",
       "    </tr>\n",
       "  </thead>\n",
       "  <tbody>\n",
       "    <tr>\n",
       "      <th>0</th>\n",
       "      <td>Obama Lays Wreath at Arlington National Cemetery</td>\n",
       "      <td>0.000000</td>\n",
       "    </tr>\n",
       "    <tr>\n",
       "      <th>1</th>\n",
       "      <td>A Look at the Health of the Chinese Economy</td>\n",
       "      <td>0.208333</td>\n",
       "    </tr>\n",
       "    <tr>\n",
       "      <th>2</th>\n",
       "      <td>Nouriel Roubini: Global Economy Not Back to 2008</td>\n",
       "      <td>-0.425210</td>\n",
       "    </tr>\n",
       "    <tr>\n",
       "      <th>3</th>\n",
       "      <td>Finland GDP Expands In Q4</td>\n",
       "      <td>0.000000</td>\n",
       "    </tr>\n",
       "    <tr>\n",
       "      <th>4</th>\n",
       "      <td>Tourism, govt spending buoys Thai economy in J...</td>\n",
       "      <td>0.000000</td>\n",
       "    </tr>\n",
       "  </tbody>\n",
       "</table>\n",
       "</div>"
      ],
      "text/plain": [
       "                                                text  sentiment\n",
       "0   Obama Lays Wreath at Arlington National Cemetery   0.000000\n",
       "1        A Look at the Health of the Chinese Economy   0.208333\n",
       "2   Nouriel Roubini: Global Economy Not Back to 2008  -0.425210\n",
       "3                          Finland GDP Expands In Q4   0.000000\n",
       "4  Tourism, govt spending buoys Thai economy in J...   0.000000"
      ]
     },
     "execution_count": 13,
     "metadata": {},
     "output_type": "execute_result"
    }
   ],
   "source": [
    "df.head()"
   ]
  },
  {
   "cell_type": "markdown",
   "metadata": {
    "id": "0PeSFLPkM9v0"
   },
   "source": [
    "# Cleaning df"
   ]
  },
  {
   "cell_type": "code",
   "execution_count": 14,
   "metadata": {
    "colab": {
     "base_uri": "https://localhost:8080/"
    },
    "executionInfo": {
     "elapsed": 557,
     "status": "ok",
     "timestamp": 1630405432059,
     "user": {
      "displayName": "Anshuman Sahu",
      "photoUrl": "https://lh3.googleusercontent.com/a-/AOh14Gg_F2kTM03kFCTaJIqCiFiEFKmADKcJvwiPZYCb=s64",
      "userId": "08186410225154793586"
     },
     "user_tz": -330
    },
    "id": "HN3uUgCmMo_-",
    "outputId": "5e2556bf-f6e7-4295-c07d-1a0a0c6cf2d9"
   },
   "outputs": [
    {
     "name": "stdout",
     "output_type": "stream",
     "text": [
      "(111864, 2)\n",
      "(101075, 2)\n"
     ]
    }
   ],
   "source": [
    "print(df.shape)\n",
    "df = df.drop_duplicates().reset_index(drop=True).copy()\n",
    "df = df.dropna(how='any')\n",
    "print(df.shape)"
   ]
  },
  {
   "cell_type": "code",
   "execution_count": 15,
   "metadata": {
    "colab": {
     "base_uri": "https://localhost:8080/",
     "height": 204
    },
    "executionInfo": {
     "elapsed": 586,
     "status": "ok",
     "timestamp": 1630405442461,
     "user": {
      "displayName": "Anshuman Sahu",
      "photoUrl": "https://lh3.googleusercontent.com/a-/AOh14Gg_F2kTM03kFCTaJIqCiFiEFKmADKcJvwiPZYCb=s64",
      "userId": "08186410225154793586"
     },
     "user_tz": -330
    },
    "id": "lO1nKEcRMpCa",
    "outputId": "9cdd2d2f-5cf6-461c-fc66-ce82f4255de1"
   },
   "outputs": [
    {
     "data": {
      "text/html": [
       "<div>\n",
       "<style scoped>\n",
       "    .dataframe tbody tr th:only-of-type {\n",
       "        vertical-align: middle;\n",
       "    }\n",
       "\n",
       "    .dataframe tbody tr th {\n",
       "        vertical-align: top;\n",
       "    }\n",
       "\n",
       "    .dataframe thead th {\n",
       "        text-align: right;\n",
       "    }\n",
       "</style>\n",
       "<table border=\"1\" class=\"dataframe\">\n",
       "  <thead>\n",
       "    <tr style=\"text-align: right;\">\n",
       "      <th></th>\n",
       "      <th>text</th>\n",
       "      <th>sentiment</th>\n",
       "    </tr>\n",
       "  </thead>\n",
       "  <tbody>\n",
       "    <tr>\n",
       "      <th>0</th>\n",
       "      <td>Obama Lays Wreath at Arlington National Cemetery</td>\n",
       "      <td>0.000000</td>\n",
       "    </tr>\n",
       "    <tr>\n",
       "      <th>1</th>\n",
       "      <td>A Look at the Health of the Chinese Economy</td>\n",
       "      <td>0.208333</td>\n",
       "    </tr>\n",
       "    <tr>\n",
       "      <th>2</th>\n",
       "      <td>Nouriel Roubini: Global Economy Not Back to 2008</td>\n",
       "      <td>-0.425210</td>\n",
       "    </tr>\n",
       "    <tr>\n",
       "      <th>3</th>\n",
       "      <td>Finland GDP Expands In Q4</td>\n",
       "      <td>0.000000</td>\n",
       "    </tr>\n",
       "    <tr>\n",
       "      <th>4</th>\n",
       "      <td>Tourism, govt spending buoys Thai economy in J...</td>\n",
       "      <td>0.000000</td>\n",
       "    </tr>\n",
       "  </tbody>\n",
       "</table>\n",
       "</div>"
      ],
      "text/plain": [
       "                                                text  sentiment\n",
       "0   Obama Lays Wreath at Arlington National Cemetery   0.000000\n",
       "1        A Look at the Health of the Chinese Economy   0.208333\n",
       "2   Nouriel Roubini: Global Economy Not Back to 2008  -0.425210\n",
       "3                          Finland GDP Expands In Q4   0.000000\n",
       "4  Tourism, govt spending buoys Thai economy in J...   0.000000"
      ]
     },
     "execution_count": 15,
     "metadata": {},
     "output_type": "execute_result"
    }
   ],
   "source": [
    "df.head()"
   ]
  },
  {
   "cell_type": "markdown",
   "metadata": {
    "id": "DJLO4s8jOSn0"
   },
   "source": [
    "# Creating X and y"
   ]
  },
  {
   "cell_type": "code",
   "execution_count": 16,
   "metadata": {
    "colab": {
     "base_uri": "https://localhost:8080/"
    },
    "executionInfo": {
     "elapsed": 768,
     "status": "ok",
     "timestamp": 1630405462879,
     "user": {
      "displayName": "Anshuman Sahu",
      "photoUrl": "https://lh3.googleusercontent.com/a-/AOh14Gg_F2kTM03kFCTaJIqCiFiEFKmADKcJvwiPZYCb=s64",
      "userId": "08186410225154793586"
     },
     "user_tz": -330
    },
    "id": "9jTzzolrMpFX",
    "outputId": "55ab9aac-bbb0-4105-8785-6f7c2b607637"
   },
   "outputs": [
    {
     "name": "stdout",
     "output_type": "stream",
     "text": [
      "(101075, 1) (101075, 1)\n"
     ]
    }
   ],
   "source": [
    "X=df['text'].values.reshape(-1,1)\n",
    "y=df['sentiment'].values.reshape(-1,1)\n",
    "print(X.shape,y.shape)"
   ]
  },
  {
   "cell_type": "code",
   "execution_count": 17,
   "metadata": {
    "colab": {
     "base_uri": "https://localhost:8080/"
    },
    "executionInfo": {
     "elapsed": 5,
     "status": "ok",
     "timestamp": 1630405464742,
     "user": {
      "displayName": "Anshuman Sahu",
      "photoUrl": "https://lh3.googleusercontent.com/a-/AOh14Gg_F2kTM03kFCTaJIqCiFiEFKmADKcJvwiPZYCb=s64",
      "userId": "08186410225154793586"
     },
     "user_tz": -330
    },
    "id": "Zd5NY7v9MpH7",
    "outputId": "6f6d9895-1eba-459c-b858-d8506186d9e4"
   },
   "outputs": [
    {
     "data": {
      "text/plain": [
       "array([['Obama Lays Wreath at Arlington National Cemetery'],\n",
       "       ['A Look at the Health of the Chinese Economy'],\n",
       "       ['Nouriel Roubini: Global Economy Not Back to 2008'],\n",
       "       ['Finland GDP Expands In Q4'],\n",
       "       ['Tourism, govt spending buoys Thai economy in January'],\n",
       "       ['Intellitec Solutions to Host 13th Annual Spring Microsoft Dynamics User Group'],\n",
       "       ['Monday, 29 Feb 2016'],\n",
       "       ['Obama, stars pay a musical tribute to Ray Charles'],\n",
       "       ['Fire claims more than 100-year-old barn in Hancock County'],\n",
       "       [\"Microsoft's new Windows 10 ad targets Apple\"]], dtype=object)"
      ]
     },
     "execution_count": 17,
     "metadata": {},
     "output_type": "execute_result"
    }
   ],
   "source": [
    "X[:10]"
   ]
  },
  {
   "cell_type": "code",
   "execution_count": 18,
   "metadata": {
    "colab": {
     "base_uri": "https://localhost:8080/"
    },
    "executionInfo": {
     "elapsed": 5,
     "status": "ok",
     "timestamp": 1630405466041,
     "user": {
      "displayName": "Anshuman Sahu",
      "photoUrl": "https://lh3.googleusercontent.com/a-/AOh14Gg_F2kTM03kFCTaJIqCiFiEFKmADKcJvwiPZYCb=s64",
      "userId": "08186410225154793586"
     },
     "user_tz": -330
    },
    "id": "81pxq1lZMpKp",
    "outputId": "31862d47-2018-4541-a881-3af616b8c76a"
   },
   "outputs": [
    {
     "data": {
      "text/plain": [
       "array([[ 0.        ],\n",
       "       [ 0.20833333],\n",
       "       [-0.42521003],\n",
       "       [ 0.        ],\n",
       "       [ 0.        ],\n",
       "       [-0.07537784],\n",
       "       [ 0.        ],\n",
       "       [ 0.08333333],\n",
       "       [-0.17392527],\n",
       "       [-0.05953621]])"
      ]
     },
     "execution_count": 18,
     "metadata": {},
     "output_type": "execute_result"
    }
   ],
   "source": [
    "y[:10]"
   ]
  },
  {
   "cell_type": "markdown",
   "metadata": {
    "id": "3ym-lzoVO2vb"
   },
   "source": [
    "# Text Cleaning"
   ]
  },
  {
   "cell_type": "code",
   "execution_count": 19,
   "metadata": {
    "executionInfo": {
     "elapsed": 3077,
     "status": "ok",
     "timestamp": 1630405481188,
     "user": {
      "displayName": "Anshuman Sahu",
      "photoUrl": "https://lh3.googleusercontent.com/a-/AOh14Gg_F2kTM03kFCTaJIqCiFiEFKmADKcJvwiPZYCb=s64",
      "userId": "08186410225154793586"
     },
     "user_tz": -330
    },
    "id": "AbSYGneaMpNb"
   },
   "outputs": [],
   "source": [
    "import re\n",
    "import string\n",
    "import spacy\n",
    "from spacy.lang.en.stop_words import STOP_WORDS\n",
    "from tqdm import tqdm"
   ]
  },
  {
   "cell_type": "code",
   "execution_count": null,
   "metadata": {
    "colab": {
     "base_uri": "https://localhost:8080/"
    },
    "executionInfo": {
     "elapsed": 32,
     "status": "ok",
     "timestamp": 1627842785562,
     "user": {
      "displayName": "Anshuman Sahu",
      "photoUrl": "https://lh3.googleusercontent.com/a-/AOh14Gg_F2kTM03kFCTaJIqCiFiEFKmADKcJvwiPZYCb=s64",
      "userId": "08186410225154793586"
     },
     "user_tz": -330
    },
    "id": "ntTZLEQyMpQU",
    "outputId": "6646c06d-3d9d-4b23-ddd5-a2cad1c0d589"
   },
   "outputs": [
    {
     "data": {
      "text/plain": [
       "True"
      ]
     },
     "execution_count": 40,
     "metadata": {
      "tags": []
     },
     "output_type": "execute_result"
    }
   ],
   "source": [
    "# \"not\" in STOP_WORDS"
   ]
  },
  {
   "cell_type": "code",
   "execution_count": 20,
   "metadata": {
    "colab": {
     "base_uri": "https://localhost:8080/",
     "height": 35
    },
    "executionInfo": {
     "elapsed": 634,
     "status": "ok",
     "timestamp": 1630405490062,
     "user": {
      "displayName": "Anshuman Sahu",
      "photoUrl": "https://lh3.googleusercontent.com/a-/AOh14Gg_F2kTM03kFCTaJIqCiFiEFKmADKcJvwiPZYCb=s64",
      "userId": "08186410225154793586"
     },
     "user_tz": -330
    },
    "id": "5s6kpcqSMpTI",
    "outputId": "89eb2707-38a3-4136-878c-cdf9ec8ca081"
   },
   "outputs": [
    {
     "data": {
      "application/vnd.google.colaboratory.intrinsic+json": {
       "type": "string"
      },
      "text/plain": [
       "'!\"#$%&\\'()*+,-./:;<=>?@[\\\\]^_`{|}~'"
      ]
     },
     "execution_count": 20,
     "metadata": {},
     "output_type": "execute_result"
    }
   ],
   "source": [
    "string.punctuation"
   ]
  },
  {
   "cell_type": "code",
   "execution_count": 21,
   "metadata": {
    "colab": {
     "base_uri": "https://localhost:8080/"
    },
    "executionInfo": {
     "elapsed": 564,
     "status": "ok",
     "timestamp": 1630405495521,
     "user": {
      "displayName": "Anshuman Sahu",
      "photoUrl": "https://lh3.googleusercontent.com/a-/AOh14Gg_F2kTM03kFCTaJIqCiFiEFKmADKcJvwiPZYCb=s64",
      "userId": "08186410225154793586"
     },
     "user_tz": -330
    },
    "id": "sqP27R5JMpVp",
    "outputId": "b631120c-422c-49d6-c388-7a9ede94358a"
   },
   "outputs": [
    {
     "name": "stdout",
     "output_type": "stream",
     "text": [
      "!#$%&()*+,-./:;<=>?@[\\]^_`{|}~\n"
     ]
    }
   ],
   "source": [
    "punct = \"!#$%&()*+,-./:;<=>?@[\\]^_`{|}~\"\n",
    "print(punct)"
   ]
  },
  {
   "cell_type": "code",
   "execution_count": 22,
   "metadata": {
    "executionInfo": {
     "elapsed": 1624,
     "status": "ok",
     "timestamp": 1630405524617,
     "user": {
      "displayName": "Anshuman Sahu",
      "photoUrl": "https://lh3.googleusercontent.com/a-/AOh14Gg_F2kTM03kFCTaJIqCiFiEFKmADKcJvwiPZYCb=s64",
      "userId": "08186410225154793586"
     },
     "user_tz": -330
    },
    "id": "W0lpERoeMpYi"
   },
   "outputs": [],
   "source": [
    "# loading spacy english model\n",
    "nlp = spacy.load('en_core_web_sm')"
   ]
  },
  {
   "cell_type": "code",
   "execution_count": 23,
   "metadata": {
    "colab": {
     "base_uri": "https://localhost:8080/"
    },
    "executionInfo": {
     "elapsed": 565,
     "status": "ok",
     "timestamp": 1630405530464,
     "user": {
      "displayName": "Anshuman Sahu",
      "photoUrl": "https://lh3.googleusercontent.com/a-/AOh14Gg_F2kTM03kFCTaJIqCiFiEFKmADKcJvwiPZYCb=s64",
      "userId": "08186410225154793586"
     },
     "user_tz": -330
    },
    "id": "MV6ZGwC7MpbQ",
    "outputId": "6f688d20-96f7-42bb-a05d-1151106f5aa9"
   },
   "outputs": [
    {
     "name": "stdout",
     "output_type": "stream",
     "text": [
      "-PRON-\n",
      "would\n",
      "can\n",
      "not\n",
      "do\n",
      "this\n",
      "and\n",
      "-PRON-\n",
      "be\n",
      "difficult\n",
      ".\n",
      "-PRON-\n",
      "website\n",
      "n't\n",
      "www.google.com\n"
     ]
    }
   ],
   "source": [
    "doc = nlp(\"Id cant do this and it's difficult. My website n't www.google.com\")\n",
    "for token in doc:\n",
    "  print(token.lemma_)"
   ]
  },
  {
   "cell_type": "code",
   "execution_count": 24,
   "metadata": {
    "colab": {
     "base_uri": "https://localhost:8080/"
    },
    "executionInfo": {
     "elapsed": 1676,
     "status": "ok",
     "timestamp": 1630405544149,
     "user": {
      "displayName": "Anshuman Sahu",
      "photoUrl": "https://lh3.googleusercontent.com/a-/AOh14Gg_F2kTM03kFCTaJIqCiFiEFKmADKcJvwiPZYCb=s64",
      "userId": "08186410225154793586"
     },
     "user_tz": -330
    },
    "id": "jMNmNqi-Pz6M",
    "outputId": "3a11395a-a0ba-420e-c019-a264d5974ee6"
   },
   "outputs": [
    {
     "name": "stdout",
     "output_type": "stream",
     "text": [
      "[nltk_data] Downloading package stopwords to /root/nltk_data...\n",
      "[nltk_data]   Unzipping corpora/stopwords.zip.\n",
      "['i', 'me', 'my', 'myself', 'we', 'our', 'ours', 'ourselves', 'you', \"you're\", \"you've\", \"you'll\", \"you'd\", 'your', 'yours', 'yourself', 'yourselves', 'he', 'him', 'his', 'himself', 'she', \"she's\", 'her', 'hers', 'herself', 'it', \"it's\", 'its', 'itself', 'they', 'them', 'their', 'theirs', 'themselves', 'what', 'which', 'who', 'whom', 'this', 'that', \"that'll\", 'these', 'those', 'am', 'is', 'are', 'was', 'were', 'be', 'been', 'being', 'have', 'has', 'had', 'having', 'do', 'does', 'did', 'doing', 'a', 'an', 'the', 'and', 'but', 'if', 'or', 'because', 'as', 'until', 'while', 'of', 'at', 'by', 'for', 'with', 'about', 'against', 'between', 'into', 'through', 'during', 'before', 'after', 'above', 'below', 'to', 'from', 'up', 'down', 'in', 'out', 'on', 'off', 'over', 'under', 'again', 'further', 'then', 'once', 'here', 'there', 'when', 'where', 'why', 'how', 'all', 'any', 'both', 'each', 'few', 'more', 'most', 'other', 'some', 'such', 'no', 'nor', 'not', 'only', 'own', 'same', 'so', 'than', 'too', 'very', 's', 't', 'can', 'will', 'just', 'don', \"don't\", 'should', \"should've\", 'now', 'd', 'll', 'm', 'o', 're', 've', 'y', 'ain', 'aren', \"aren't\", 'couldn', \"couldn't\", 'didn', \"didn't\", 'doesn', \"doesn't\", 'hadn', \"hadn't\", 'hasn', \"hasn't\", 'haven', \"haven't\", 'isn', \"isn't\", 'ma', 'mightn', \"mightn't\", 'mustn', \"mustn't\", 'needn', \"needn't\", 'shan', \"shan't\", 'shouldn', \"shouldn't\", 'wasn', \"wasn't\", 'weren', \"weren't\", 'won', \"won't\", 'wouldn', \"wouldn't\"]\n"
     ]
    }
   ],
   "source": [
    "import nltk\n",
    "nltk.download('stopwords')\n",
    "from nltk.corpus import stopwords\n",
    "print(stopwords.words('english'))"
   ]
  },
  {
   "cell_type": "code",
   "execution_count": 25,
   "metadata": {
    "executionInfo": {
     "elapsed": 557,
     "status": "ok",
     "timestamp": 1630405575732,
     "user": {
      "displayName": "Anshuman Sahu",
      "photoUrl": "https://lh3.googleusercontent.com/a-/AOh14Gg_F2kTM03kFCTaJIqCiFiEFKmADKcJvwiPZYCb=s64",
      "userId": "08186410225154793586"
     },
     "user_tz": -330
    },
    "id": "dLqLXL8eP0EJ"
   },
   "outputs": [],
   "source": [
    "# text cleaning function\n",
    "\n",
    "def text_cleaning(X):\n",
    "  corpus = []\n",
    "  for i in tqdm(range(0,len(X))):\n",
    "    sen = re.sub(\"http?\\S+\",\" \",X[i][0])\n",
    "    sen = re.sub('[^a-zA-Z]', ' ', sen)\n",
    "    doc = nlp(sen)\n",
    "    tokens = []\n",
    "    for token in doc:\n",
    "      if token.lemma_ != \"-PRON-\":\n",
    "        temp = token.lemma_.lower().strip()\n",
    "      else:\n",
    "        temp = token.lower_.strip()\n",
    "      tokens.append(temp)\n",
    "      tokens = [token for token in tokens if token not in punct]\n",
    "    corpus.append(' '.join(tokens))\n",
    "  return corpus"
   ]
  },
  {
   "cell_type": "code",
   "execution_count": 26,
   "metadata": {
    "colab": {
     "base_uri": "https://localhost:8080/"
    },
    "executionInfo": {
     "elapsed": 1062888,
     "status": "ok",
     "timestamp": 1630406665754,
     "user": {
      "displayName": "Anshuman Sahu",
      "photoUrl": "https://lh3.googleusercontent.com/a-/AOh14Gg_F2kTM03kFCTaJIqCiFiEFKmADKcJvwiPZYCb=s64",
      "userId": "08186410225154793586"
     },
     "user_tz": -330
    },
    "id": "QVP8zTqHP0HP",
    "outputId": "e553379a-f2f4-4c50-fd0f-eda7694d9649"
   },
   "outputs": [
    {
     "name": "stderr",
     "output_type": "stream",
     "text": [
      "100%|██████████| 101075/101075 [17:42<00:00, 95.14it/s]"
     ]
    },
    {
     "name": "stdout",
     "output_type": "stream",
     "text": [
      "cleaning done..\n"
     ]
    },
    {
     "name": "stderr",
     "output_type": "stream",
     "text": [
      "\n"
     ]
    }
   ],
   "source": [
    "corpus = text_cleaning(X)\n",
    "print('cleaning done..')"
   ]
  },
  {
   "cell_type": "code",
   "execution_count": 27,
   "metadata": {
    "colab": {
     "base_uri": "https://localhost:8080/"
    },
    "executionInfo": {
     "elapsed": 605,
     "status": "ok",
     "timestamp": 1630406979612,
     "user": {
      "displayName": "Anshuman Sahu",
      "photoUrl": "https://lh3.googleusercontent.com/a-/AOh14Gg_F2kTM03kFCTaJIqCiFiEFKmADKcJvwiPZYCb=s64",
      "userId": "08186410225154793586"
     },
     "user_tz": -330
    },
    "id": "5XLND6-tP0KQ",
    "outputId": "3226a4dd-ec34-46e1-ccf6-c25f7b711de3"
   },
   "outputs": [
    {
     "data": {
      "text/plain": [
       "101075"
      ]
     },
     "execution_count": 27,
     "metadata": {},
     "output_type": "execute_result"
    }
   ],
   "source": [
    "len(corpus)"
   ]
  },
  {
   "cell_type": "code",
   "execution_count": null,
   "metadata": {
    "id": "6IpQSSf_v9a6"
   },
   "outputs": [],
   "source": [
    "# sanity check for corpus"
   ]
  },
  {
   "cell_type": "code",
   "execution_count": 28,
   "metadata": {
    "colab": {
     "base_uri": "https://localhost:8080/"
    },
    "executionInfo": {
     "elapsed": 595,
     "status": "ok",
     "timestamp": 1630406988207,
     "user": {
      "displayName": "Anshuman Sahu",
      "photoUrl": "https://lh3.googleusercontent.com/a-/AOh14Gg_F2kTM03kFCTaJIqCiFiEFKmADKcJvwiPZYCb=s64",
      "userId": "08186410225154793586"
     },
     "user_tz": -330
    },
    "id": "d3DFEVZ6w1je",
    "outputId": "ad807dae-3754-41ec-e9f6-0a42d82dcabd"
   },
   "outputs": [
    {
     "data": {
      "text/plain": [
       "Index(['IDLink', 'Title', 'Headline', 'Source', 'Topic', 'PublishDate',\n",
       "       'Facebook', 'GooglePlus', 'LinkedIn'],\n",
       "      dtype='object')"
      ]
     },
     "execution_count": 28,
     "metadata": {},
     "output_type": "execute_result"
    }
   ],
   "source": [
    "test.columns"
   ]
  },
  {
   "cell_type": "code",
   "execution_count": 29,
   "metadata": {
    "colab": {
     "base_uri": "https://localhost:8080/"
    },
    "executionInfo": {
     "elapsed": 5,
     "status": "ok",
     "timestamp": 1630406992812,
     "user": {
      "displayName": "Anshuman Sahu",
      "photoUrl": "https://lh3.googleusercontent.com/a-/AOh14Gg_F2kTM03kFCTaJIqCiFiEFKmADKcJvwiPZYCb=s64",
      "userId": "08186410225154793586"
     },
     "user_tz": -330
    },
    "id": "JyYz7aEFP0NL",
    "outputId": "30c6ed8f-c2ac-49ac-b5a9-9df6fbc7bd36"
   },
   "outputs": [
    {
     "name": "stdout",
     "output_type": "stream",
     "text": [
      "(37288, 1)\n",
      "(37288, 1)\n"
     ]
    }
   ],
   "source": [
    "X_test_title= test['Title'].values.reshape(-1,1).copy()\n",
    "print(X_test_title.shape)\n",
    "\n",
    "X_test_head= test['Headline'].values.reshape(-1,1).copy()\n",
    "print(X_test_head.shape)"
   ]
  },
  {
   "cell_type": "code",
   "execution_count": 30,
   "metadata": {
    "colab": {
     "base_uri": "https://localhost:8080/"
    },
    "executionInfo": {
     "elapsed": 766160,
     "status": "ok",
     "timestamp": 1630407763913,
     "user": {
      "displayName": "Anshuman Sahu",
      "photoUrl": "https://lh3.googleusercontent.com/a-/AOh14Gg_F2kTM03kFCTaJIqCiFiEFKmADKcJvwiPZYCb=s64",
      "userId": "08186410225154793586"
     },
     "user_tz": -330
    },
    "id": "4mMbAUg3P0Ti",
    "outputId": "fbf370de-feec-4053-c20f-f504c957387c"
   },
   "outputs": [
    {
     "name": "stderr",
     "output_type": "stream",
     "text": [
      "100%|██████████| 37288/37288 [05:35<00:00, 111.25it/s]\n"
     ]
    },
    {
     "name": "stdout",
     "output_type": "stream",
     "text": [
      "cleaning done..\n"
     ]
    },
    {
     "name": "stderr",
     "output_type": "stream",
     "text": [
      "100%|██████████| 37288/37288 [07:10<00:00, 86.59it/s]"
     ]
    },
    {
     "name": "stdout",
     "output_type": "stream",
     "text": [
      "cleaning done..\n"
     ]
    },
    {
     "name": "stderr",
     "output_type": "stream",
     "text": [
      "\n"
     ]
    }
   ],
   "source": [
    "corpus_test_title = text_cleaning(X_test_title)\n",
    "print('cleaning done..')\n",
    "\n",
    "corpus_test_head = text_cleaning(X_test_head)\n",
    "print('cleaning done..')"
   ]
  },
  {
   "cell_type": "markdown",
   "metadata": {
    "id": "_lMaGkWu0tiQ"
   },
   "source": [
    "# Find max len"
   ]
  },
  {
   "cell_type": "code",
   "execution_count": 31,
   "metadata": {
    "colab": {
     "base_uri": "https://localhost:8080/"
    },
    "executionInfo": {
     "elapsed": 562,
     "status": "ok",
     "timestamp": 1630407781234,
     "user": {
      "displayName": "Anshuman Sahu",
      "photoUrl": "https://lh3.googleusercontent.com/a-/AOh14Gg_F2kTM03kFCTaJIqCiFiEFKmADKcJvwiPZYCb=s64",
      "userId": "08186410225154793586"
     },
     "user_tz": -330
    },
    "id": "6FbiAb72P0f9",
    "outputId": "a5600168-6ffa-457e-fb2d-16b0eec060f6"
   },
   "outputs": [
    {
     "data": {
      "text/plain": [
       "80"
      ]
     },
     "execution_count": 31,
     "metadata": {},
     "output_type": "execute_result"
    }
   ],
   "source": [
    "max([len(i[0].split()) for i in X])"
   ]
  },
  {
   "cell_type": "code",
   "execution_count": 32,
   "metadata": {
    "colab": {
     "base_uri": "https://localhost:8080/"
    },
    "executionInfo": {
     "elapsed": 5,
     "status": "ok",
     "timestamp": 1630407783998,
     "user": {
      "displayName": "Anshuman Sahu",
      "photoUrl": "https://lh3.googleusercontent.com/a-/AOh14Gg_F2kTM03kFCTaJIqCiFiEFKmADKcJvwiPZYCb=s64",
      "userId": "08186410225154793586"
     },
     "user_tz": -330
    },
    "id": "lvxNxiYc1MvA",
    "outputId": "8d8542a6-9ffc-43ff-956b-2dea353fe9f2"
   },
   "outputs": [
    {
     "data": {
      "text/plain": [
       "87"
      ]
     },
     "execution_count": 32,
     "metadata": {},
     "output_type": "execute_result"
    }
   ],
   "source": [
    "max([len(i.split()) for i in corpus])"
   ]
  },
  {
   "cell_type": "code",
   "execution_count": 33,
   "metadata": {
    "colab": {
     "base_uri": "https://localhost:8080/"
    },
    "executionInfo": {
     "elapsed": 651,
     "status": "ok",
     "timestamp": 1630407787326,
     "user": {
      "displayName": "Anshuman Sahu",
      "photoUrl": "https://lh3.googleusercontent.com/a-/AOh14Gg_F2kTM03kFCTaJIqCiFiEFKmADKcJvwiPZYCb=s64",
      "userId": "08186410225154793586"
     },
     "user_tz": -330
    },
    "id": "EW6p8gzj2VHb",
    "outputId": "87a387e5-f393-46e6-e7cd-3df3b4482ad1"
   },
   "outputs": [
    {
     "data": {
      "text/plain": [
       "23"
      ]
     },
     "execution_count": 33,
     "metadata": {},
     "output_type": "execute_result"
    }
   ],
   "source": [
    "max([len(i.split()) for i in corpus_test_title])"
   ]
  },
  {
   "cell_type": "code",
   "execution_count": 34,
   "metadata": {
    "colab": {
     "base_uri": "https://localhost:8080/"
    },
    "executionInfo": {
     "elapsed": 4,
     "status": "ok",
     "timestamp": 1630407789511,
     "user": {
      "displayName": "Anshuman Sahu",
      "photoUrl": "https://lh3.googleusercontent.com/a-/AOh14Gg_F2kTM03kFCTaJIqCiFiEFKmADKcJvwiPZYCb=s64",
      "userId": "08186410225154793586"
     },
     "user_tz": -330
    },
    "id": "BdkxbF1H2VKr",
    "outputId": "2f6942c2-fbdd-4135-c14e-57ce0aff8f45"
   },
   "outputs": [
    {
     "data": {
      "text/plain": [
       "82"
      ]
     },
     "execution_count": 34,
     "metadata": {},
     "output_type": "execute_result"
    }
   ],
   "source": [
    "max([len(i.split()) for i in corpus_test_head])"
   ]
  },
  {
   "cell_type": "markdown",
   "metadata": {
    "id": "kPfLQJEq23KO"
   },
   "source": [
    "# Onehot"
   ]
  },
  {
   "cell_type": "code",
   "execution_count": 35,
   "metadata": {
    "executionInfo": {
     "elapsed": 553,
     "status": "ok",
     "timestamp": 1630407793666,
     "user": {
      "displayName": "Anshuman Sahu",
      "photoUrl": "https://lh3.googleusercontent.com/a-/AOh14Gg_F2kTM03kFCTaJIqCiFiEFKmADKcJvwiPZYCb=s64",
      "userId": "08186410225154793586"
     },
     "user_tz": -330
    },
    "id": "oJ7wn1av0rPX"
   },
   "outputs": [],
   "source": [
    "from tensorflow.keras.preprocessing.text import one_hot\n",
    "from tensorflow.keras.preprocessing.sequence import pad_sequences\n",
    "voc_size = 25000"
   ]
  },
  {
   "cell_type": "code",
   "execution_count": 36,
   "metadata": {
    "colab": {
     "base_uri": "https://localhost:8080/"
    },
    "executionInfo": {
     "elapsed": 6,
     "status": "ok",
     "timestamp": 1630407795914,
     "user": {
      "displayName": "Anshuman Sahu",
      "photoUrl": "https://lh3.googleusercontent.com/a-/AOh14Gg_F2kTM03kFCTaJIqCiFiEFKmADKcJvwiPZYCb=s64",
      "userId": "08186410225154793586"
     },
     "user_tz": -330
    },
    "id": "UzeSJEw80rSx",
    "outputId": "f7145694-359b-408b-fb22-e2b04fbe3493"
   },
   "outputs": [
    {
     "name": "stdout",
     "output_type": "stream",
     "text": [
      "101075 37288 37288\n"
     ]
    }
   ],
   "source": [
    "print(len(corpus),len(corpus_test_title),len(corpus_test_head))"
   ]
  },
  {
   "cell_type": "code",
   "execution_count": 37,
   "metadata": {
    "colab": {
     "base_uri": "https://localhost:8080/"
    },
    "executionInfo": {
     "elapsed": 19,
     "status": "ok",
     "timestamp": 1630407797416,
     "user": {
      "displayName": "Anshuman Sahu",
      "photoUrl": "https://lh3.googleusercontent.com/a-/AOh14Gg_F2kTM03kFCTaJIqCiFiEFKmADKcJvwiPZYCb=s64",
      "userId": "08186410225154793586"
     },
     "user_tz": -330
    },
    "id": "HIowERJ30rVT",
    "outputId": "0046df05-c502-4aea-a28c-27e516ecb8d6"
   },
   "outputs": [
    {
     "data": {
      "text/plain": [
       "175651"
      ]
     },
     "execution_count": 37,
     "metadata": {},
     "output_type": "execute_result"
    }
   ],
   "source": [
    "corpus_tot = corpus+corpus_test_title+corpus_test_head\n",
    "len(corpus_tot)"
   ]
  },
  {
   "cell_type": "code",
   "execution_count": 38,
   "metadata": {
    "executionInfo": {
     "elapsed": 3841,
     "status": "ok",
     "timestamp": 1630407802664,
     "user": {
      "displayName": "Anshuman Sahu",
      "photoUrl": "https://lh3.googleusercontent.com/a-/AOh14Gg_F2kTM03kFCTaJIqCiFiEFKmADKcJvwiPZYCb=s64",
      "userId": "08186410225154793586"
     },
     "user_tz": -330
    },
    "id": "dz-yv_5r0rYC"
   },
   "outputs": [],
   "source": [
    "onehot_rep = [one_hot(words, n=voc_size) for words in corpus_tot]"
   ]
  },
  {
   "cell_type": "code",
   "execution_count": 39,
   "metadata": {
    "colab": {
     "base_uri": "https://localhost:8080/"
    },
    "executionInfo": {
     "elapsed": 19,
     "status": "ok",
     "timestamp": 1630407802667,
     "user": {
      "displayName": "Anshuman Sahu",
      "photoUrl": "https://lh3.googleusercontent.com/a-/AOh14Gg_F2kTM03kFCTaJIqCiFiEFKmADKcJvwiPZYCb=s64",
      "userId": "08186410225154793586"
     },
     "user_tz": -330
    },
    "id": "dK22G6dW0rb1",
    "outputId": "91f90dba-2b1e-4b02-8598-18c4d9355f42"
   },
   "outputs": [
    {
     "data": {
      "text/plain": [
       "[[10507, 6227, 5171, 12021, 24827, 19580, 10342],\n",
       " [16457, 9869, 12021, 15517, 15069, 14232, 15517, 5543, 4990],\n",
       " [13338, 3478, 14500, 4990, 6992, 19737, 1679],\n",
       " [21014, 17407, 21072, 9974, 16984],\n",
       " [7604, 15981, 23612, 1171, 7988, 4990, 9974, 21371]]"
      ]
     },
     "execution_count": 39,
     "metadata": {},
     "output_type": "execute_result"
    }
   ],
   "source": [
    "onehot_rep[:5]"
   ]
  },
  {
   "cell_type": "code",
   "execution_count": 40,
   "metadata": {
    "colab": {
     "base_uri": "https://localhost:8080/"
    },
    "executionInfo": {
     "elapsed": 18,
     "status": "ok",
     "timestamp": 1630407802669,
     "user": {
      "displayName": "Anshuman Sahu",
      "photoUrl": "https://lh3.googleusercontent.com/a-/AOh14Gg_F2kTM03kFCTaJIqCiFiEFKmADKcJvwiPZYCb=s64",
      "userId": "08186410225154793586"
     },
     "user_tz": -330
    },
    "id": "n3zwIse90reK",
    "outputId": "9fde0d86-d1b6-436b-b207-982fb7ea7152"
   },
   "outputs": [
    {
     "data": {
      "text/plain": [
       "175651"
      ]
     },
     "execution_count": 40,
     "metadata": {},
     "output_type": "execute_result"
    }
   ],
   "source": [
    "len(onehot_rep)"
   ]
  },
  {
   "cell_type": "code",
   "execution_count": 41,
   "metadata": {
    "colab": {
     "base_uri": "https://localhost:8080/"
    },
    "executionInfo": {
     "elapsed": 1556,
     "status": "ok",
     "timestamp": 1630407805157,
     "user": {
      "displayName": "Anshuman Sahu",
      "photoUrl": "https://lh3.googleusercontent.com/a-/AOh14Gg_F2kTM03kFCTaJIqCiFiEFKmADKcJvwiPZYCb=s64",
      "userId": "08186410225154793586"
     },
     "user_tz": -330
    },
    "id": "ZtgtDq880rhL",
    "outputId": "8116a5e7-09d5-4f75-ea4e-e632703079c3"
   },
   "outputs": [
    {
     "name": "stdout",
     "output_type": "stream",
     "text": [
      "[    0     0     0     0     0     0     0     0     0     0     0     0\n",
      "     0     0     0     0     0     0     0     0     0     0     0     0\n",
      "     0     0     0     0     0     0     0     0     0     0     0     0\n",
      "     0     0     0     0     0     0     0     0     0     0     0     0\n",
      "     0     0     0     0     0     0     0     0     0     0     0     0\n",
      "     0     0     0     0     0     0     0     0     0     0     0     0\n",
      "     0     0     0     0     0     0     0     0     0     0     0 10507\n",
      "  6227  5171 12021 24827 19580 10342]\n"
     ]
    }
   ],
   "source": [
    "sent_length = 90\n",
    "embedded_docs = pad_sequences(onehot_rep, padding='pre', maxlen=sent_length)\n",
    "print(embedded_docs[0])"
   ]
  },
  {
   "cell_type": "code",
   "execution_count": 42,
   "metadata": {
    "colab": {
     "base_uri": "https://localhost:8080/"
    },
    "executionInfo": {
     "elapsed": 6,
     "status": "ok",
     "timestamp": 1630407808360,
     "user": {
      "displayName": "Anshuman Sahu",
      "photoUrl": "https://lh3.googleusercontent.com/a-/AOh14Gg_F2kTM03kFCTaJIqCiFiEFKmADKcJvwiPZYCb=s64",
      "userId": "08186410225154793586"
     },
     "user_tz": -330
    },
    "id": "WlbD5n5v0roJ",
    "outputId": "20f33032-39b6-4d8f-9207-d58f75202844"
   },
   "outputs": [
    {
     "name": "stdout",
     "output_type": "stream",
     "text": [
      "101075 37288 37288\n",
      "101075 37288 37288\n"
     ]
    }
   ],
   "source": [
    "embedded_docs_train = embedded_docs[:len(corpus)]\n",
    "embedded_docs_test_title = embedded_docs[len(corpus):len(corpus)+len(corpus_test_title)]\n",
    "embedded_docs_test_head = embedded_docs[len(corpus)+len(corpus_test_title):]\n",
    "\n",
    "print(len(corpus),len(corpus_test_title),len(corpus_test_head))\n",
    "print(len(embedded_docs_train),len(embedded_docs_test_title),len(embedded_docs_test_head))"
   ]
  },
  {
   "cell_type": "markdown",
   "metadata": {
    "id": "7Bfvw4Vt6x6N"
   },
   "source": [
    "# Split data"
   ]
  },
  {
   "cell_type": "code",
   "execution_count": 43,
   "metadata": {
    "colab": {
     "base_uri": "https://localhost:8080/"
    },
    "executionInfo": {
     "elapsed": 537,
     "status": "ok",
     "timestamp": 1630407811760,
     "user": {
      "displayName": "Anshuman Sahu",
      "photoUrl": "https://lh3.googleusercontent.com/a-/AOh14Gg_F2kTM03kFCTaJIqCiFiEFKmADKcJvwiPZYCb=s64",
      "userId": "08186410225154793586"
     },
     "user_tz": -330
    },
    "id": "DTTWN1-o6851",
    "outputId": "17662df9-a300-4cdb-b6e8-4550cb34e66e"
   },
   "outputs": [
    {
     "data": {
      "text/plain": [
       "((101075, 90), (101075, 1), (37288, 90), (37288, 90))"
      ]
     },
     "execution_count": 43,
     "metadata": {},
     "output_type": "execute_result"
    }
   ],
   "source": [
    "embedded_docs_train.shape, y.shape, embedded_docs_test_title.shape, embedded_docs_test_head.shape"
   ]
  },
  {
   "cell_type": "code",
   "execution_count": 44,
   "metadata": {
    "colab": {
     "base_uri": "https://localhost:8080/"
    },
    "executionInfo": {
     "elapsed": 946,
     "status": "ok",
     "timestamp": 1630407814158,
     "user": {
      "displayName": "Anshuman Sahu",
      "photoUrl": "https://lh3.googleusercontent.com/a-/AOh14Gg_F2kTM03kFCTaJIqCiFiEFKmADKcJvwiPZYCb=s64",
      "userId": "08186410225154793586"
     },
     "user_tz": -330
    },
    "id": "VcjHrXEm41Jp",
    "outputId": "1efcd045-bb5e-4893-e005-3155bf5bbcbd"
   },
   "outputs": [
    {
     "data": {
      "text/plain": [
       "((67720, 90), (67720, 1), (33355, 90), (33355, 1))"
      ]
     },
     "execution_count": 44,
     "metadata": {},
     "output_type": "execute_result"
    }
   ],
   "source": [
    "from sklearn.model_selection import train_test_split\n",
    "\n",
    "X_train, X_val, y_train, y_val = train_test_split(embedded_docs_train, y, test_size=0.33, random_state = 42, shuffle=True)\n",
    "\n",
    "X_train.shape, y_train.shape, X_val.shape, y_val.shape"
   ]
  },
  {
   "cell_type": "markdown",
   "metadata": {
    "id": "aADPnASL7jki"
   },
   "source": [
    "# Model"
   ]
  },
  {
   "cell_type": "code",
   "execution_count": 45,
   "metadata": {
    "executionInfo": {
     "elapsed": 1360,
     "status": "ok",
     "timestamp": 1630407819152,
     "user": {
      "displayName": "Anshuman Sahu",
      "photoUrl": "https://lh3.googleusercontent.com/a-/AOh14Gg_F2kTM03kFCTaJIqCiFiEFKmADKcJvwiPZYCb=s64",
      "userId": "08186410225154793586"
     },
     "user_tz": -330
    },
    "id": "wgHiytfP41SG"
   },
   "outputs": [],
   "source": [
    "from tensorflow.keras.models import Sequential\n",
    "from tensorflow.keras.layers import LSTM, Dense, Bidirectional, Dropout, Embedding, Flatten\n",
    "from tensorflow.keras.callbacks import EarlyStopping"
   ]
  },
  {
   "cell_type": "code",
   "execution_count": 46,
   "metadata": {
    "colab": {
     "base_uri": "https://localhost:8080/"
    },
    "executionInfo": {
     "elapsed": 6376,
     "status": "ok",
     "timestamp": 1630407858058,
     "user": {
      "displayName": "Anshuman Sahu",
      "photoUrl": "https://lh3.googleusercontent.com/a-/AOh14Gg_F2kTM03kFCTaJIqCiFiEFKmADKcJvwiPZYCb=s64",
      "userId": "08186410225154793586"
     },
     "user_tz": -330
    },
    "id": "86jxBG9341U3",
    "outputId": "c3e10af0-24dc-4dbf-de61-915a8949d90f"
   },
   "outputs": [
    {
     "name": "stdout",
     "output_type": "stream",
     "text": [
      "Model: \"sequential\"\n",
      "_________________________________________________________________\n",
      "Layer (type)                 Output Shape              Param #   \n",
      "=================================================================\n",
      "embedding (Embedding)        (None, 90, 128)           3200000   \n",
      "_________________________________________________________________\n",
      "bidirectional (Bidirectional (None, 128)               98816     \n",
      "_________________________________________________________________\n",
      "dropout (Dropout)            (None, 128)               0         \n",
      "_________________________________________________________________\n",
      "flatten (Flatten)            (None, 128)               0         \n",
      "_________________________________________________________________\n",
      "dense (Dense)                (None, 1)                 129       \n",
      "=================================================================\n",
      "Total params: 3,298,945\n",
      "Trainable params: 3,298,945\n",
      "Non-trainable params: 0\n",
      "_________________________________________________________________\n",
      "None\n"
     ]
    }
   ],
   "source": [
    "embedding_dim=128\n",
    "\n",
    "\n",
    "model_bilstm=Sequential()\n",
    "model_bilstm.add(Embedding(voc_size,embedding_dim,input_length=sent_length))\n",
    "model_bilstm.add(Bidirectional(LSTM(64)))\n",
    "model_bilstm.add(Dropout(0.25))\n",
    "model_bilstm.add(Flatten())\n",
    "model_bilstm.add(Dense(1, activation='tanh'))\n",
    "model_bilstm.compile(loss='mean_squared_error',optimizer='adam')\n",
    "print(model_bilstm.summary())"
   ]
  },
  {
   "cell_type": "code",
   "execution_count": null,
   "metadata": {
    "id": "rHLzi3iG41X7"
   },
   "outputs": [],
   "source": [
    "# from keras.utils.vis_utils import plot_model\n",
    "\n",
    "# plot_model(model=model_bilstm, to_file='model.png')"
   ]
  },
  {
   "cell_type": "code",
   "execution_count": 47,
   "metadata": {
    "executionInfo": {
     "elapsed": 553,
     "status": "ok",
     "timestamp": 1630407869349,
     "user": {
      "displayName": "Anshuman Sahu",
      "photoUrl": "https://lh3.googleusercontent.com/a-/AOh14Gg_F2kTM03kFCTaJIqCiFiEFKmADKcJvwiPZYCb=s64",
      "userId": "08186410225154793586"
     },
     "user_tz": -330
    },
    "id": "9FBoEssu41ak"
   },
   "outputs": [],
   "source": [
    "early_s = EarlyStopping(monitor='val_loss', patience=15, restore_best_weights=True, verbose=1)"
   ]
  },
  {
   "cell_type": "code",
   "execution_count": 48,
   "metadata": {
    "colab": {
     "base_uri": "https://localhost:8080/"
    },
    "executionInfo": {
     "elapsed": 185825,
     "status": "ok",
     "timestamp": 1630408059508,
     "user": {
      "displayName": "Anshuman Sahu",
      "photoUrl": "https://lh3.googleusercontent.com/a-/AOh14Gg_F2kTM03kFCTaJIqCiFiEFKmADKcJvwiPZYCb=s64",
      "userId": "08186410225154793586"
     },
     "user_tz": -330
    },
    "id": "uyKgDpul41dP",
    "outputId": "eec382d5-95e3-40e1-c198-4b0b3350aedf"
   },
   "outputs": [
    {
     "name": "stdout",
     "output_type": "stream",
     "text": [
      "Epoch 1/20\n",
      "133/133 [==============================] - 18s 73ms/step - loss: 0.0122 - val_loss: 0.0091\n",
      "Epoch 2/20\n",
      "133/133 [==============================] - 9s 66ms/step - loss: 0.0081 - val_loss: 0.0088\n",
      "Epoch 3/20\n",
      "133/133 [==============================] - 9s 66ms/step - loss: 0.0072 - val_loss: 0.0087\n",
      "Epoch 4/20\n",
      "133/133 [==============================] - 9s 66ms/step - loss: 0.0064 - val_loss: 0.0085\n",
      "Epoch 5/20\n",
      "133/133 [==============================] - 9s 66ms/step - loss: 0.0056 - val_loss: 0.0083\n",
      "Epoch 6/20\n",
      "133/133 [==============================] - 9s 66ms/step - loss: 0.0049 - val_loss: 0.0081\n",
      "Epoch 7/20\n",
      "133/133 [==============================] - 9s 66ms/step - loss: 0.0044 - val_loss: 0.0083\n",
      "Epoch 8/20\n",
      "133/133 [==============================] - 9s 66ms/step - loss: 0.0040 - val_loss: 0.0084\n",
      "Epoch 9/20\n",
      "133/133 [==============================] - 9s 67ms/step - loss: 0.0037 - val_loss: 0.0086\n",
      "Epoch 10/20\n",
      "133/133 [==============================] - 9s 66ms/step - loss: 0.0034 - val_loss: 0.0085\n",
      "Epoch 11/20\n",
      "133/133 [==============================] - 9s 66ms/step - loss: 0.0031 - val_loss: 0.0092\n",
      "Epoch 12/20\n",
      "133/133 [==============================] - 9s 66ms/step - loss: 0.0029 - val_loss: 0.0088\n",
      "Epoch 13/20\n",
      "133/133 [==============================] - 9s 66ms/step - loss: 0.0027 - val_loss: 0.0090\n",
      "Epoch 14/20\n",
      "133/133 [==============================] - 9s 66ms/step - loss: 0.0025 - val_loss: 0.0093\n",
      "Epoch 15/20\n",
      "133/133 [==============================] - 9s 66ms/step - loss: 0.0023 - val_loss: 0.0094\n",
      "Epoch 16/20\n",
      "133/133 [==============================] - 9s 67ms/step - loss: 0.0022 - val_loss: 0.0093\n",
      "Epoch 17/20\n",
      "133/133 [==============================] - 9s 67ms/step - loss: 0.0021 - val_loss: 0.0097\n",
      "Epoch 18/20\n",
      "133/133 [==============================] - 9s 66ms/step - loss: 0.0020 - val_loss: 0.0099\n",
      "Epoch 19/20\n",
      "133/133 [==============================] - 9s 67ms/step - loss: 0.0019 - val_loss: 0.0096\n",
      "Epoch 20/20\n",
      "133/133 [==============================] - 9s 67ms/step - loss: 0.0018 - val_loss: 0.0098\n"
     ]
    }
   ],
   "source": [
    "history = model_bilstm.fit(X_train, y_train, validation_data=(X_val,y_val), \n",
    "                           batch_size=512, epochs=20, callbacks=[early_s], verbose=1)"
   ]
  },
  {
   "cell_type": "markdown",
   "metadata": {
    "id": "vnoVplr7CCsA"
   },
   "source": [
    "# Prediction"
   ]
  },
  {
   "cell_type": "code",
   "execution_count": 49,
   "metadata": {
    "executionInfo": {
     "elapsed": 34271,
     "status": "ok",
     "timestamp": 1630408093753,
     "user": {
      "displayName": "Anshuman Sahu",
      "photoUrl": "https://lh3.googleusercontent.com/a-/AOh14Gg_F2kTM03kFCTaJIqCiFiEFKmADKcJvwiPZYCb=s64",
      "userId": "08186410225154793586"
     },
     "user_tz": -330
    },
    "id": "aB5Z3ZcG0rsz"
   },
   "outputs": [],
   "source": [
    "y_pred_title = model_bilstm.predict(embedded_docs_test_title)\n",
    "y_pred_head = model_bilstm.predict(embedded_docs_test_head)"
   ]
  },
  {
   "cell_type": "code",
   "execution_count": 50,
   "metadata": {
    "colab": {
     "base_uri": "https://localhost:8080/"
    },
    "executionInfo": {
     "elapsed": 58,
     "status": "ok",
     "timestamp": 1630408093762,
     "user": {
      "displayName": "Anshuman Sahu",
      "photoUrl": "https://lh3.googleusercontent.com/a-/AOh14Gg_F2kTM03kFCTaJIqCiFiEFKmADKcJvwiPZYCb=s64",
      "userId": "08186410225154793586"
     },
     "user_tz": -330
    },
    "id": "iPL-NproOIif",
    "outputId": "c4223b5e-fc2e-45da-a625-14ab879bf02f"
   },
   "outputs": [
    {
     "data": {
      "text/plain": [
       "array([[ 0.02532711],\n",
       "       [-0.09990197],\n",
       "       [-0.05235893],\n",
       "       ...,\n",
       "       [ 0.4050634 ],\n",
       "       [ 0.09002601],\n",
       "       [-0.10041559]], dtype=float32)"
      ]
     },
     "execution_count": 50,
     "metadata": {},
     "output_type": "execute_result"
    }
   ],
   "source": [
    "y_pred_title"
   ]
  },
  {
   "cell_type": "code",
   "execution_count": 51,
   "metadata": {
    "colab": {
     "base_uri": "https://localhost:8080/"
    },
    "executionInfo": {
     "elapsed": 38,
     "status": "ok",
     "timestamp": 1630408093764,
     "user": {
      "displayName": "Anshuman Sahu",
      "photoUrl": "https://lh3.googleusercontent.com/a-/AOh14Gg_F2kTM03kFCTaJIqCiFiEFKmADKcJvwiPZYCb=s64",
      "userId": "08186410225154793586"
     },
     "user_tz": -330
    },
    "id": "2d9HMILdOIfD",
    "outputId": "54c8943e-1ee3-490c-890c-97db98b4f2f3"
   },
   "outputs": [
    {
     "data": {
      "text/plain": [
       "array([[-0.08304027],\n",
       "       [ 0.11378475],\n",
       "       [-0.13867153],\n",
       "       ...,\n",
       "       [-0.19634722],\n",
       "       [ 0.085851  ],\n",
       "       [-0.02667028]], dtype=float32)"
      ]
     },
     "execution_count": 51,
     "metadata": {},
     "output_type": "execute_result"
    }
   ],
   "source": [
    "y_pred_head"
   ]
  },
  {
   "cell_type": "markdown",
   "metadata": {
    "id": "BmdlZ4GCCGp0"
   },
   "source": [
    "# csv file"
   ]
  },
  {
   "cell_type": "code",
   "execution_count": 52,
   "metadata": {
    "colab": {
     "base_uri": "https://localhost:8080/"
    },
    "executionInfo": {
     "elapsed": 31,
     "status": "ok",
     "timestamp": 1630408093765,
     "user": {
      "displayName": "Anshuman Sahu",
      "photoUrl": "https://lh3.googleusercontent.com/a-/AOh14Gg_F2kTM03kFCTaJIqCiFiEFKmADKcJvwiPZYCb=s64",
      "userId": "08186410225154793586"
     },
     "user_tz": -330
    },
    "id": "_AJKJE_uOfm6",
    "outputId": "6a7a095f-1009-4756-824e-4665bbeb956d"
   },
   "outputs": [
    {
     "data": {
      "text/plain": [
       "array([ 0.02532711, -0.09990197, -0.05235893, ...,  0.4050634 ,\n",
       "        0.09002601, -0.10041559], dtype=float32)"
      ]
     },
     "execution_count": 52,
     "metadata": {},
     "output_type": "execute_result"
    }
   ],
   "source": [
    "y_pred_title.reshape(1,-1)[0]"
   ]
  },
  {
   "cell_type": "code",
   "execution_count": 53,
   "metadata": {
    "colab": {
     "base_uri": "https://localhost:8080/"
    },
    "executionInfo": {
     "elapsed": 27,
     "status": "ok",
     "timestamp": 1630408093767,
     "user": {
      "displayName": "Anshuman Sahu",
      "photoUrl": "https://lh3.googleusercontent.com/a-/AOh14Gg_F2kTM03kFCTaJIqCiFiEFKmADKcJvwiPZYCb=s64",
      "userId": "08186410225154793586"
     },
     "user_tz": -330
    },
    "id": "5vwnRXGy0rwY",
    "outputId": "a78cc656-d8a4-4311-d96e-ce88a61c0d17"
   },
   "outputs": [
    {
     "name": "stdout",
     "output_type": "stream",
     "text": [
      "(37288, 3) (37288, 9)\n"
     ]
    }
   ],
   "source": [
    "sub = pd.DataFrame({'IDLink': test['IDLink'],\n",
    "                    'SentimentTitle': y_pred_title.reshape(1,-1)[0],\n",
    "                    'SentimentHeadline': y_pred_head.reshape(1,-1)[0]})\n",
    "print(sub.shape, test.shape)"
   ]
  },
  {
   "cell_type": "code",
   "execution_count": 54,
   "metadata": {
    "colab": {
     "base_uri": "https://localhost:8080/",
     "height": 359
    },
    "executionInfo": {
     "elapsed": 22,
     "status": "ok",
     "timestamp": 1630408093769,
     "user": {
      "displayName": "Anshuman Sahu",
      "photoUrl": "https://lh3.googleusercontent.com/a-/AOh14Gg_F2kTM03kFCTaJIqCiFiEFKmADKcJvwiPZYCb=s64",
      "userId": "08186410225154793586"
     },
     "user_tz": -330
    },
    "id": "PsioqwEb0rzm",
    "outputId": "6a6e56a3-f3dd-4859-a8ec-0059186b85ad"
   },
   "outputs": [
    {
     "data": {
      "text/html": [
       "<div>\n",
       "<style scoped>\n",
       "    .dataframe tbody tr th:only-of-type {\n",
       "        vertical-align: middle;\n",
       "    }\n",
       "\n",
       "    .dataframe tbody tr th {\n",
       "        vertical-align: top;\n",
       "    }\n",
       "\n",
       "    .dataframe thead th {\n",
       "        text-align: right;\n",
       "    }\n",
       "</style>\n",
       "<table border=\"1\" class=\"dataframe\">\n",
       "  <thead>\n",
       "    <tr style=\"text-align: right;\">\n",
       "      <th></th>\n",
       "      <th>IDLink</th>\n",
       "      <th>SentimentTitle</th>\n",
       "      <th>SentimentHeadline</th>\n",
       "    </tr>\n",
       "  </thead>\n",
       "  <tbody>\n",
       "    <tr>\n",
       "      <th>0</th>\n",
       "      <td>tFrqIR6Chj</td>\n",
       "      <td>0.025327</td>\n",
       "      <td>-0.083040</td>\n",
       "    </tr>\n",
       "    <tr>\n",
       "      <th>1</th>\n",
       "      <td>DVAaGErjlF</td>\n",
       "      <td>-0.099902</td>\n",
       "      <td>0.113785</td>\n",
       "    </tr>\n",
       "    <tr>\n",
       "      <th>2</th>\n",
       "      <td>OT9UIZm5M2</td>\n",
       "      <td>-0.052359</td>\n",
       "      <td>-0.138672</td>\n",
       "    </tr>\n",
       "    <tr>\n",
       "      <th>3</th>\n",
       "      <td>lflGp3q2Fj</td>\n",
       "      <td>-0.118598</td>\n",
       "      <td>-0.190379</td>\n",
       "    </tr>\n",
       "    <tr>\n",
       "      <th>4</th>\n",
       "      <td>zDYG0SoovZ</td>\n",
       "      <td>-0.070764</td>\n",
       "      <td>0.070364</td>\n",
       "    </tr>\n",
       "    <tr>\n",
       "      <th>5</th>\n",
       "      <td>xwr9uOYgEj</td>\n",
       "      <td>0.170573</td>\n",
       "      <td>0.002234</td>\n",
       "    </tr>\n",
       "    <tr>\n",
       "      <th>6</th>\n",
       "      <td>X8BqN4I4xZ</td>\n",
       "      <td>-0.047358</td>\n",
       "      <td>0.055217</td>\n",
       "    </tr>\n",
       "    <tr>\n",
       "      <th>7</th>\n",
       "      <td>ESXBINkNt4</td>\n",
       "      <td>0.144588</td>\n",
       "      <td>0.199827</td>\n",
       "    </tr>\n",
       "    <tr>\n",
       "      <th>8</th>\n",
       "      <td>uUjZusP8FU</td>\n",
       "      <td>-0.078118</td>\n",
       "      <td>0.018881</td>\n",
       "    </tr>\n",
       "    <tr>\n",
       "      <th>9</th>\n",
       "      <td>VIxYwukhvK</td>\n",
       "      <td>0.018546</td>\n",
       "      <td>-0.004881</td>\n",
       "    </tr>\n",
       "  </tbody>\n",
       "</table>\n",
       "</div>"
      ],
      "text/plain": [
       "       IDLink  SentimentTitle  SentimentHeadline\n",
       "0  tFrqIR6Chj        0.025327          -0.083040\n",
       "1  DVAaGErjlF       -0.099902           0.113785\n",
       "2  OT9UIZm5M2       -0.052359          -0.138672\n",
       "3  lflGp3q2Fj       -0.118598          -0.190379\n",
       "4  zDYG0SoovZ       -0.070764           0.070364\n",
       "5  xwr9uOYgEj        0.170573           0.002234\n",
       "6  X8BqN4I4xZ       -0.047358           0.055217\n",
       "7  ESXBINkNt4        0.144588           0.199827\n",
       "8  uUjZusP8FU       -0.078118           0.018881\n",
       "9  VIxYwukhvK        0.018546          -0.004881"
      ]
     },
     "execution_count": 54,
     "metadata": {},
     "output_type": "execute_result"
    }
   ],
   "source": [
    "sub.head(10)"
   ]
  },
  {
   "cell_type": "code",
   "execution_count": 55,
   "metadata": {
    "executionInfo": {
     "elapsed": 778,
     "status": "ok",
     "timestamp": 1630408094529,
     "user": {
      "displayName": "Anshuman Sahu",
      "photoUrl": "https://lh3.googleusercontent.com/a-/AOh14Gg_F2kTM03kFCTaJIqCiFiEFKmADKcJvwiPZYCb=s64",
      "userId": "08186410225154793586"
     },
     "user_tz": -330
    },
    "id": "XfuwOZeYJ9gT"
   },
   "outputs": [],
   "source": [
    "sub.to_csv('/content/drive/MyDrive/python/zs news/sub_file2.csv', index=False)"
   ]
  },
  {
   "cell_type": "code",
   "execution_count": null,
   "metadata": {
    "id": "yCZ6wcpbJ9jM"
   },
   "outputs": [],
   "source": []
  },
  {
   "cell_type": "code",
   "execution_count": null,
   "metadata": {
    "id": "h4DB_dAsJ9mj"
   },
   "outputs": [],
   "source": []
  }
 ],
 "metadata": {
  "accelerator": "GPU",
  "colab": {
   "authorship_tag": "ABX9TyMMM+VjHmXeQtO/RiW6ExsQ",
   "collapsed_sections": [],
   "mount_file_id": "1VOtPC0W1Cbjdnwm96nsZEE6vo-Tj2jua",
   "name": "news_final.ipynb",
   "provenance": []
  },
  "kernelspec": {
   "display_name": "Python 3",
   "language": "python",
   "name": "python3"
  },
  "language_info": {
   "codemirror_mode": {
    "name": "ipython",
    "version": 3
   },
   "file_extension": ".py",
   "mimetype": "text/x-python",
   "name": "python",
   "nbconvert_exporter": "python",
   "pygments_lexer": "ipython3",
   "version": "3.8.3"
  }
 },
 "nbformat": 4,
 "nbformat_minor": 1
}
