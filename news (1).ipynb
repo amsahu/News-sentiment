{
 "cells": [
  {
   "cell_type": "code",
   "execution_count": 20,
   "metadata": {
    "executionInfo": {
     "elapsed": 427,
     "status": "ok",
     "timestamp": 1627842781402,
     "user": {
      "displayName": "Anshuman Sahu",
      "photoUrl": "https://lh3.googleusercontent.com/a-/AOh14Gg_F2kTM03kFCTaJIqCiFiEFKmADKcJvwiPZYCb=s64",
      "userId": "08186410225154793586"
     },
     "user_tz": -330
    },
    "id": "5LgxOrvyJ8UL"
   },
   "outputs": [],
   "source": []
  },
  {
   "cell_type": "code",
   "execution_count": 21,
   "metadata": {
    "colab": {
     "base_uri": "https://localhost:8080/"
    },
    "executionInfo": {
     "elapsed": 34,
     "status": "ok",
     "timestamp": 1627842782406,
     "user": {
      "displayName": "Anshuman Sahu",
      "photoUrl": "https://lh3.googleusercontent.com/a-/AOh14Gg_F2kTM03kFCTaJIqCiFiEFKmADKcJvwiPZYCb=s64",
      "userId": "08186410225154793586"
     },
     "user_tz": -330
    },
    "id": "wnKDZSDWKFAp",
    "outputId": "ecdf85de-a0a2-43b1-e520-034a979da77d"
   },
   "outputs": [
    {
     "name": "stdout",
     "output_type": "stream",
     "text": [
      "Drive already mounted at /content/drive; to attempt to forcibly remount, call drive.mount(\"/content/drive\", force_remount=True).\n"
     ]
    }
   ],
   "source": [
    "from google.colab import drive\n",
    "drive.mount('/content/drive')"
   ]
  },
  {
   "cell_type": "code",
   "execution_count": 22,
   "metadata": {
    "colab": {
     "base_uri": "https://localhost:8080/"
    },
    "executionInfo": {
     "elapsed": 30,
     "status": "ok",
     "timestamp": 1627842782408,
     "user": {
      "displayName": "Anshuman Sahu",
      "photoUrl": "https://lh3.googleusercontent.com/a-/AOh14Gg_F2kTM03kFCTaJIqCiFiEFKmADKcJvwiPZYCb=s64",
      "userId": "08186410225154793586"
     },
     "user_tz": -330
    },
    "id": "y35r6xydJ9RW",
    "outputId": "896d2dec-a6ae-4c01-e682-5b973568ea4e"
   },
   "outputs": [
    {
     "name": "stdout",
     "output_type": "stream",
     "text": [
      "/content/drive/My Drive/python/zs news\n"
     ]
    }
   ],
   "source": [
    "!pwd"
   ]
  },
  {
   "cell_type": "code",
   "execution_count": 23,
   "metadata": {
    "executionInfo": {
     "elapsed": 23,
     "status": "ok",
     "timestamp": 1627842782410,
     "user": {
      "displayName": "Anshuman Sahu",
      "photoUrl": "https://lh3.googleusercontent.com/a-/AOh14Gg_F2kTM03kFCTaJIqCiFiEFKmADKcJvwiPZYCb=s64",
      "userId": "08186410225154793586"
     },
     "user_tz": -330
    },
    "id": "lrywxmASJ9Uf"
   },
   "outputs": [],
   "source": [
    "import os\n",
    "import numpy as np\n",
    "import pandas as pd\n",
    "import matplotlib.pyplot as plt\n",
    "import tensorflow as tf"
   ]
  },
  {
   "cell_type": "code",
   "execution_count": 24,
   "metadata": {
    "colab": {
     "base_uri": "https://localhost:8080/",
     "height": 35
    },
    "executionInfo": {
     "elapsed": 23,
     "status": "ok",
     "timestamp": 1627842782411,
     "user": {
      "displayName": "Anshuman Sahu",
      "photoUrl": "https://lh3.googleusercontent.com/a-/AOh14Gg_F2kTM03kFCTaJIqCiFiEFKmADKcJvwiPZYCb=s64",
      "userId": "08186410225154793586"
     },
     "user_tz": -330
    },
    "id": "AcDJGmokJ9Xb",
    "outputId": "7d6588a4-0591-437d-ddc8-8b6e7e4f890c"
   },
   "outputs": [
    {
     "data": {
      "application/vnd.google.colaboratory.intrinsic+json": {
       "type": "string"
      },
      "text/plain": [
       "'/content/drive/MyDrive/python/zs news'"
      ]
     },
     "execution_count": 24,
     "metadata": {
      "tags": []
     },
     "output_type": "execute_result"
    }
   ],
   "source": [
    "os.chdir('/content/drive/MyDrive/python/zs news/')\n",
    "os.getcwd()"
   ]
  },
  {
   "cell_type": "markdown",
   "metadata": {
    "id": "Jus3tZXeK1rd"
   },
   "source": [
    "# Read Data"
   ]
  },
  {
   "cell_type": "code",
   "execution_count": 25,
   "metadata": {
    "colab": {
     "base_uri": "https://localhost:8080/"
    },
    "executionInfo": {
     "elapsed": 580,
     "status": "ok",
     "timestamp": 1627842782970,
     "user": {
      "displayName": "Anshuman Sahu",
      "photoUrl": "https://lh3.googleusercontent.com/a-/AOh14Gg_F2kTM03kFCTaJIqCiFiEFKmADKcJvwiPZYCb=s64",
      "userId": "08186410225154793586"
     },
     "user_tz": -330
    },
    "id": "NN0f24QlJ9ad",
    "outputId": "b4007b9b-4170-4e0d-a04e-3dbf42111d41"
   },
   "outputs": [
    {
     "name": "stdout",
     "output_type": "stream",
     "text": [
      "(55932, 11) (37288, 9)\n"
     ]
    }
   ],
   "source": [
    "train = pd.read_csv('/content/drive/MyDrive/python/zs news/train_file.csv')\n",
    "test = pd.read_csv('/content/drive/MyDrive/python/zs news/test_file.csv')\n",
    "print(train.shape, test.shape)"
   ]
  },
  {
   "cell_type": "code",
   "execution_count": 26,
   "metadata": {
    "colab": {
     "base_uri": "https://localhost:8080/",
     "height": 647
    },
    "executionInfo": {
     "elapsed": 28,
     "status": "ok",
     "timestamp": 1627842782972,
     "user": {
      "displayName": "Anshuman Sahu",
      "photoUrl": "https://lh3.googleusercontent.com/a-/AOh14Gg_F2kTM03kFCTaJIqCiFiEFKmADKcJvwiPZYCb=s64",
      "userId": "08186410225154793586"
     },
     "user_tz": -330
    },
    "id": "E8-SF7JIKzf2",
    "outputId": "44aa13a0-55a2-47ca-af2c-b1122a7736fc"
   },
   "outputs": [
    {
     "data": {
      "text/html": [
       "<div>\n",
       "<style scoped>\n",
       "    .dataframe tbody tr th:only-of-type {\n",
       "        vertical-align: middle;\n",
       "    }\n",
       "\n",
       "    .dataframe tbody tr th {\n",
       "        vertical-align: top;\n",
       "    }\n",
       "\n",
       "    .dataframe thead th {\n",
       "        text-align: right;\n",
       "    }\n",
       "</style>\n",
       "<table border=\"1\" class=\"dataframe\">\n",
       "  <thead>\n",
       "    <tr style=\"text-align: right;\">\n",
       "      <th></th>\n",
       "      <th>IDLink</th>\n",
       "      <th>Title</th>\n",
       "      <th>Headline</th>\n",
       "      <th>Source</th>\n",
       "      <th>Topic</th>\n",
       "      <th>PublishDate</th>\n",
       "      <th>Facebook</th>\n",
       "      <th>GooglePlus</th>\n",
       "      <th>LinkedIn</th>\n",
       "      <th>SentimentTitle</th>\n",
       "      <th>SentimentHeadline</th>\n",
       "    </tr>\n",
       "  </thead>\n",
       "  <tbody>\n",
       "    <tr>\n",
       "      <th>0</th>\n",
       "      <td>Tr3CMgRv1N</td>\n",
       "      <td>Obama Lays Wreath at Arlington National Cemetery</td>\n",
       "      <td>Obama Lays Wreath at Arlington National Cemete...</td>\n",
       "      <td>USA TODAY</td>\n",
       "      <td>obama</td>\n",
       "      <td>2002-04-02 00:00:00</td>\n",
       "      <td>-1</td>\n",
       "      <td>-1</td>\n",
       "      <td>-1</td>\n",
       "      <td>0.000000</td>\n",
       "      <td>-0.053300</td>\n",
       "    </tr>\n",
       "    <tr>\n",
       "      <th>1</th>\n",
       "      <td>Wc81vGp8qZ</td>\n",
       "      <td>A Look at the Health of the Chinese Economy</td>\n",
       "      <td>Tim Haywood, investment director business-unit...</td>\n",
       "      <td>Bloomberg</td>\n",
       "      <td>economy</td>\n",
       "      <td>2008-09-20 00:00:00</td>\n",
       "      <td>-1</td>\n",
       "      <td>-1</td>\n",
       "      <td>-1</td>\n",
       "      <td>0.208333</td>\n",
       "      <td>-0.156386</td>\n",
       "    </tr>\n",
       "    <tr>\n",
       "      <th>2</th>\n",
       "      <td>zNGH03CrZH</td>\n",
       "      <td>Nouriel Roubini: Global Economy Not Back to 2008</td>\n",
       "      <td>Nouriel Roubini, NYU professor and chairman at...</td>\n",
       "      <td>Bloomberg</td>\n",
       "      <td>economy</td>\n",
       "      <td>2012-01-28 00:00:00</td>\n",
       "      <td>-1</td>\n",
       "      <td>-1</td>\n",
       "      <td>-1</td>\n",
       "      <td>-0.425210</td>\n",
       "      <td>0.139754</td>\n",
       "    </tr>\n",
       "    <tr>\n",
       "      <th>3</th>\n",
       "      <td>3sM1H0W8ts</td>\n",
       "      <td>Finland GDP Expands In Q4</td>\n",
       "      <td>Finland's economy expanded marginally in the t...</td>\n",
       "      <td>RTT News</td>\n",
       "      <td>economy</td>\n",
       "      <td>2015-03-01 00:06:00</td>\n",
       "      <td>-1</td>\n",
       "      <td>-1</td>\n",
       "      <td>-1</td>\n",
       "      <td>0.000000</td>\n",
       "      <td>0.026064</td>\n",
       "    </tr>\n",
       "    <tr>\n",
       "      <th>4</th>\n",
       "      <td>wUbnxgvqaZ</td>\n",
       "      <td>Tourism, govt spending buoys Thai economy in J...</td>\n",
       "      <td>Tourism and public spending continued to boost...</td>\n",
       "      <td>The Nation - Thailand&amp;#39;s English news</td>\n",
       "      <td>economy</td>\n",
       "      <td>2015-03-01 00:11:00</td>\n",
       "      <td>-1</td>\n",
       "      <td>-1</td>\n",
       "      <td>-1</td>\n",
       "      <td>0.000000</td>\n",
       "      <td>0.141084</td>\n",
       "    </tr>\n",
       "  </tbody>\n",
       "</table>\n",
       "</div>"
      ],
      "text/plain": [
       "       IDLink  ... SentimentHeadline\n",
       "0  Tr3CMgRv1N  ...         -0.053300\n",
       "1  Wc81vGp8qZ  ...         -0.156386\n",
       "2  zNGH03CrZH  ...          0.139754\n",
       "3  3sM1H0W8ts  ...          0.026064\n",
       "4  wUbnxgvqaZ  ...          0.141084\n",
       "\n",
       "[5 rows x 11 columns]"
      ]
     },
     "execution_count": 26,
     "metadata": {
      "tags": []
     },
     "output_type": "execute_result"
    }
   ],
   "source": [
    "train.head()"
   ]
  },
  {
   "cell_type": "code",
   "execution_count": 27,
   "metadata": {
    "colab": {
     "base_uri": "https://localhost:8080/",
     "height": 290
    },
    "executionInfo": {
     "elapsed": 25,
     "status": "ok",
     "timestamp": 1627842782975,
     "user": {
      "displayName": "Anshuman Sahu",
      "photoUrl": "https://lh3.googleusercontent.com/a-/AOh14Gg_F2kTM03kFCTaJIqCiFiEFKmADKcJvwiPZYCb=s64",
      "userId": "08186410225154793586"
     },
     "user_tz": -330
    },
    "id": "FH4uGSraLa0B",
    "outputId": "306223fc-6bee-4977-ad3e-b822208dc56a"
   },
   "outputs": [
    {
     "data": {
      "text/html": [
       "<div>\n",
       "<style scoped>\n",
       "    .dataframe tbody tr th:only-of-type {\n",
       "        vertical-align: middle;\n",
       "    }\n",
       "\n",
       "    .dataframe tbody tr th {\n",
       "        vertical-align: top;\n",
       "    }\n",
       "\n",
       "    .dataframe thead th {\n",
       "        text-align: right;\n",
       "    }\n",
       "</style>\n",
       "<table border=\"1\" class=\"dataframe\">\n",
       "  <thead>\n",
       "    <tr style=\"text-align: right;\">\n",
       "      <th></th>\n",
       "      <th>IDLink</th>\n",
       "      <th>Title</th>\n",
       "      <th>Headline</th>\n",
       "      <th>Source</th>\n",
       "      <th>Topic</th>\n",
       "      <th>PublishDate</th>\n",
       "      <th>Facebook</th>\n",
       "      <th>GooglePlus</th>\n",
       "      <th>LinkedIn</th>\n",
       "    </tr>\n",
       "  </thead>\n",
       "  <tbody>\n",
       "    <tr>\n",
       "      <th>0</th>\n",
       "      <td>tFrqIR6Chj</td>\n",
       "      <td>Sliding Economy: FG fights back with N3trn TSA...</td>\n",
       "      <td>With the 2016 budget now passed by the Nationa...</td>\n",
       "      <td>BusinessDay</td>\n",
       "      <td>economy</td>\n",
       "      <td>2016-03-29 01:41:12</td>\n",
       "      <td>0</td>\n",
       "      <td>0</td>\n",
       "      <td>1</td>\n",
       "    </tr>\n",
       "    <tr>\n",
       "      <th>1</th>\n",
       "      <td>DVAaGErjlF</td>\n",
       "      <td>Microsoft shows how HoloLens can bring distant...</td>\n",
       "      <td>A recent Microsoft Research video shows how th...</td>\n",
       "      <td>Daily Mail</td>\n",
       "      <td>microsoft</td>\n",
       "      <td>2016-03-29 01:41:27</td>\n",
       "      <td>121</td>\n",
       "      <td>2</td>\n",
       "      <td>13</td>\n",
       "    </tr>\n",
       "    <tr>\n",
       "      <th>2</th>\n",
       "      <td>OT9UIZm5M2</td>\n",
       "      <td>Microsoft’s Twitter Robot Praises Hitler, Trum...</td>\n",
       "      <td>* Microsoft teamed with Bing to create TayTwee...</td>\n",
       "      <td>EURweb</td>\n",
       "      <td>microsoft</td>\n",
       "      <td>2016-03-29 01:47:00</td>\n",
       "      <td>12</td>\n",
       "      <td>1</td>\n",
       "      <td>0</td>\n",
       "    </tr>\n",
       "    <tr>\n",
       "      <th>3</th>\n",
       "      <td>lflGp3q2Fj</td>\n",
       "      <td>Flood of Central Bank Moves Can't Get World Ec...</td>\n",
       "      <td>Central bankers have managed to steer the worl...</td>\n",
       "      <td>Bloomberg via Yahoo! Finance</td>\n",
       "      <td>economy</td>\n",
       "      <td>2016-03-29 02:00:00</td>\n",
       "      <td>0</td>\n",
       "      <td>0</td>\n",
       "      <td>3</td>\n",
       "    </tr>\n",
       "    <tr>\n",
       "      <th>4</th>\n",
       "      <td>zDYG0SoovZ</td>\n",
       "      <td>USD/JPY: bears lining up on mixed U.S. economy...</td>\n",
       "      <td>However, this streak of seven-day gains might ...</td>\n",
       "      <td>FXStreet</td>\n",
       "      <td>economy</td>\n",
       "      <td>2016-03-29 02:01:07</td>\n",
       "      <td>3</td>\n",
       "      <td>0</td>\n",
       "      <td>0</td>\n",
       "    </tr>\n",
       "  </tbody>\n",
       "</table>\n",
       "</div>"
      ],
      "text/plain": [
       "       IDLink  ... LinkedIn\n",
       "0  tFrqIR6Chj  ...        1\n",
       "1  DVAaGErjlF  ...       13\n",
       "2  OT9UIZm5M2  ...        0\n",
       "3  lflGp3q2Fj  ...        3\n",
       "4  zDYG0SoovZ  ...        0\n",
       "\n",
       "[5 rows x 9 columns]"
      ]
     },
     "execution_count": 27,
     "metadata": {
      "tags": []
     },
     "output_type": "execute_result"
    }
   ],
   "source": [
    "test.head()"
   ]
  },
  {
   "cell_type": "markdown",
   "metadata": {
    "id": "ORkBPhZ1MFjp"
   },
   "source": [
    "# Prepare training data"
   ]
  },
  {
   "cell_type": "code",
   "execution_count": 28,
   "metadata": {
    "colab": {
     "base_uri": "https://localhost:8080/"
    },
    "executionInfo": {
     "elapsed": 601,
     "status": "ok",
     "timestamp": 1627842783555,
     "user": {
      "displayName": "Anshuman Sahu",
      "photoUrl": "https://lh3.googleusercontent.com/a-/AOh14Gg_F2kTM03kFCTaJIqCiFiEFKmADKcJvwiPZYCb=s64",
      "userId": "08186410225154793586"
     },
     "user_tz": -330
    },
    "id": "cSKK2fMILa3D",
    "outputId": "a4e17de4-6879-4c3a-b519-26867ce05dfb"
   },
   "outputs": [
    {
     "data": {
      "text/plain": [
       "0"
      ]
     },
     "execution_count": 28,
     "metadata": {
      "tags": []
     },
     "output_type": "execute_result"
    }
   ],
   "source": [
    "train.duplicated().sum()"
   ]
  },
  {
   "cell_type": "code",
   "execution_count": 29,
   "metadata": {
    "colab": {
     "base_uri": "https://localhost:8080/"
    },
    "executionInfo": {
     "elapsed": 73,
     "status": "ok",
     "timestamp": 1627842783557,
     "user": {
      "displayName": "Anshuman Sahu",
      "photoUrl": "https://lh3.googleusercontent.com/a-/AOh14Gg_F2kTM03kFCTaJIqCiFiEFKmADKcJvwiPZYCb=s64",
      "userId": "08186410225154793586"
     },
     "user_tz": -330
    },
    "id": "uN4lfHBgLa5_",
    "outputId": "0e5bb9f5-7159-4ede-cb42-95f8388ba733"
   },
   "outputs": [
    {
     "data": {
      "text/plain": [
       "Index(['IDLink', 'Title', 'Headline', 'Source', 'Topic', 'PublishDate',\n",
       "       'Facebook', 'GooglePlus', 'LinkedIn', 'SentimentTitle',\n",
       "       'SentimentHeadline'],\n",
       "      dtype='object')"
      ]
     },
     "execution_count": 29,
     "metadata": {
      "tags": []
     },
     "output_type": "execute_result"
    }
   ],
   "source": [
    "train.columns"
   ]
  },
  {
   "cell_type": "code",
   "execution_count": 30,
   "metadata": {
    "colab": {
     "base_uri": "https://localhost:8080/"
    },
    "executionInfo": {
     "elapsed": 67,
     "status": "ok",
     "timestamp": 1627842783559,
     "user": {
      "displayName": "Anshuman Sahu",
      "photoUrl": "https://lh3.googleusercontent.com/a-/AOh14Gg_F2kTM03kFCTaJIqCiFiEFKmADKcJvwiPZYCb=s64",
      "userId": "08186410225154793586"
     },
     "user_tz": -330
    },
    "id": "uG6qjborLbBv",
    "outputId": "36e3ebfa-16fc-4a1f-bf22-d558214e89ed"
   },
   "outputs": [
    {
     "data": {
      "text/plain": [
       "(55932, 2)"
      ]
     },
     "execution_count": 30,
     "metadata": {
      "tags": []
     },
     "output_type": "execute_result"
    }
   ],
   "source": [
    "df1 = train[['Title','SentimentTitle']].copy()\n",
    "df1.columns = ['text','sentiment']\n",
    "df1.shape"
   ]
  },
  {
   "cell_type": "code",
   "execution_count": 31,
   "metadata": {
    "colab": {
     "base_uri": "https://localhost:8080/"
    },
    "executionInfo": {
     "elapsed": 61,
     "status": "ok",
     "timestamp": 1627842783560,
     "user": {
      "displayName": "Anshuman Sahu",
      "photoUrl": "https://lh3.googleusercontent.com/a-/AOh14Gg_F2kTM03kFCTaJIqCiFiEFKmADKcJvwiPZYCb=s64",
      "userId": "08186410225154793586"
     },
     "user_tz": -330
    },
    "id": "5d_64YAvKzi-",
    "outputId": "4a8ad864-2d40-46bd-d022-e5061c220b9f"
   },
   "outputs": [
    {
     "data": {
      "text/plain": [
       "(55932, 2)"
      ]
     },
     "execution_count": 31,
     "metadata": {
      "tags": []
     },
     "output_type": "execute_result"
    }
   ],
   "source": [
    "df2 = train[['Headline','SentimentHeadline']].copy()\n",
    "df2.columns = ['text','sentiment']\n",
    "df2.shape"
   ]
  },
  {
   "cell_type": "code",
   "execution_count": 32,
   "metadata": {
    "colab": {
     "base_uri": "https://localhost:8080/"
    },
    "executionInfo": {
     "elapsed": 55,
     "status": "ok",
     "timestamp": 1627842783561,
     "user": {
      "displayName": "Anshuman Sahu",
      "photoUrl": "https://lh3.googleusercontent.com/a-/AOh14Gg_F2kTM03kFCTaJIqCiFiEFKmADKcJvwiPZYCb=s64",
      "userId": "08186410225154793586"
     },
     "user_tz": -330
    },
    "id": "Axf8ZioTJ9db",
    "outputId": "547ac9cb-7492-4f58-e0b9-0c0e9ed1eee9"
   },
   "outputs": [
    {
     "data": {
      "text/plain": [
       "(111864, 2)"
      ]
     },
     "execution_count": 32,
     "metadata": {
      "tags": []
     },
     "output_type": "execute_result"
    }
   ],
   "source": [
    "df = pd.concat([df1,df2], axis=0, ignore_index=True)\n",
    "df.shape"
   ]
  },
  {
   "cell_type": "code",
   "execution_count": 33,
   "metadata": {
    "colab": {
     "base_uri": "https://localhost:8080/",
     "height": 204
    },
    "executionInfo": {
     "elapsed": 51,
     "status": "ok",
     "timestamp": 1627842783562,
     "user": {
      "displayName": "Anshuman Sahu",
      "photoUrl": "https://lh3.googleusercontent.com/a-/AOh14Gg_F2kTM03kFCTaJIqCiFiEFKmADKcJvwiPZYCb=s64",
      "userId": "08186410225154793586"
     },
     "user_tz": -330
    },
    "id": "Sw-gsayRMo3-",
    "outputId": "1dd1efdf-33c4-4855-a62b-ff97ad25efe3"
   },
   "outputs": [
    {
     "data": {
      "text/html": [
       "<div>\n",
       "<style scoped>\n",
       "    .dataframe tbody tr th:only-of-type {\n",
       "        vertical-align: middle;\n",
       "    }\n",
       "\n",
       "    .dataframe tbody tr th {\n",
       "        vertical-align: top;\n",
       "    }\n",
       "\n",
       "    .dataframe thead th {\n",
       "        text-align: right;\n",
       "    }\n",
       "</style>\n",
       "<table border=\"1\" class=\"dataframe\">\n",
       "  <thead>\n",
       "    <tr style=\"text-align: right;\">\n",
       "      <th></th>\n",
       "      <th>text</th>\n",
       "      <th>sentiment</th>\n",
       "    </tr>\n",
       "  </thead>\n",
       "  <tbody>\n",
       "    <tr>\n",
       "      <th>0</th>\n",
       "      <td>Obama Lays Wreath at Arlington National Cemetery</td>\n",
       "      <td>0.000000</td>\n",
       "    </tr>\n",
       "    <tr>\n",
       "      <th>1</th>\n",
       "      <td>A Look at the Health of the Chinese Economy</td>\n",
       "      <td>0.208333</td>\n",
       "    </tr>\n",
       "    <tr>\n",
       "      <th>2</th>\n",
       "      <td>Nouriel Roubini: Global Economy Not Back to 2008</td>\n",
       "      <td>-0.425210</td>\n",
       "    </tr>\n",
       "    <tr>\n",
       "      <th>3</th>\n",
       "      <td>Finland GDP Expands In Q4</td>\n",
       "      <td>0.000000</td>\n",
       "    </tr>\n",
       "    <tr>\n",
       "      <th>4</th>\n",
       "      <td>Tourism, govt spending buoys Thai economy in J...</td>\n",
       "      <td>0.000000</td>\n",
       "    </tr>\n",
       "  </tbody>\n",
       "</table>\n",
       "</div>"
      ],
      "text/plain": [
       "                                                text  sentiment\n",
       "0   Obama Lays Wreath at Arlington National Cemetery   0.000000\n",
       "1        A Look at the Health of the Chinese Economy   0.208333\n",
       "2   Nouriel Roubini: Global Economy Not Back to 2008  -0.425210\n",
       "3                          Finland GDP Expands In Q4   0.000000\n",
       "4  Tourism, govt spending buoys Thai economy in J...   0.000000"
      ]
     },
     "execution_count": 33,
     "metadata": {
      "tags": []
     },
     "output_type": "execute_result"
    }
   ],
   "source": [
    "df.head()"
   ]
  },
  {
   "cell_type": "markdown",
   "metadata": {
    "id": "0PeSFLPkM9v0"
   },
   "source": [
    "# Cleaning df"
   ]
  },
  {
   "cell_type": "code",
   "execution_count": 34,
   "metadata": {
    "colab": {
     "base_uri": "https://localhost:8080/"
    },
    "executionInfo": {
     "elapsed": 51,
     "status": "ok",
     "timestamp": 1627842783564,
     "user": {
      "displayName": "Anshuman Sahu",
      "photoUrl": "https://lh3.googleusercontent.com/a-/AOh14Gg_F2kTM03kFCTaJIqCiFiEFKmADKcJvwiPZYCb=s64",
      "userId": "08186410225154793586"
     },
     "user_tz": -330
    },
    "id": "HN3uUgCmMo_-",
    "outputId": "dc6f35a1-fe9f-4deb-b55c-cae3a1ab56f8"
   },
   "outputs": [
    {
     "name": "stdout",
     "output_type": "stream",
     "text": [
      "(111864, 2)\n",
      "(101075, 2)\n"
     ]
    }
   ],
   "source": [
    "print(df.shape)\n",
    "df = df.drop_duplicates().reset_index(drop=True).copy()\n",
    "df = df.dropna(how='any')\n",
    "print(df.shape)"
   ]
  },
  {
   "cell_type": "code",
   "execution_count": 35,
   "metadata": {
    "colab": {
     "base_uri": "https://localhost:8080/",
     "height": 204
    },
    "executionInfo": {
     "elapsed": 46,
     "status": "ok",
     "timestamp": 1627842783565,
     "user": {
      "displayName": "Anshuman Sahu",
      "photoUrl": "https://lh3.googleusercontent.com/a-/AOh14Gg_F2kTM03kFCTaJIqCiFiEFKmADKcJvwiPZYCb=s64",
      "userId": "08186410225154793586"
     },
     "user_tz": -330
    },
    "id": "lO1nKEcRMpCa",
    "outputId": "8b142429-f922-4793-86d1-c5587420b8f1"
   },
   "outputs": [
    {
     "data": {
      "text/html": [
       "<div>\n",
       "<style scoped>\n",
       "    .dataframe tbody tr th:only-of-type {\n",
       "        vertical-align: middle;\n",
       "    }\n",
       "\n",
       "    .dataframe tbody tr th {\n",
       "        vertical-align: top;\n",
       "    }\n",
       "\n",
       "    .dataframe thead th {\n",
       "        text-align: right;\n",
       "    }\n",
       "</style>\n",
       "<table border=\"1\" class=\"dataframe\">\n",
       "  <thead>\n",
       "    <tr style=\"text-align: right;\">\n",
       "      <th></th>\n",
       "      <th>text</th>\n",
       "      <th>sentiment</th>\n",
       "    </tr>\n",
       "  </thead>\n",
       "  <tbody>\n",
       "    <tr>\n",
       "      <th>0</th>\n",
       "      <td>Obama Lays Wreath at Arlington National Cemetery</td>\n",
       "      <td>0.000000</td>\n",
       "    </tr>\n",
       "    <tr>\n",
       "      <th>1</th>\n",
       "      <td>A Look at the Health of the Chinese Economy</td>\n",
       "      <td>0.208333</td>\n",
       "    </tr>\n",
       "    <tr>\n",
       "      <th>2</th>\n",
       "      <td>Nouriel Roubini: Global Economy Not Back to 2008</td>\n",
       "      <td>-0.425210</td>\n",
       "    </tr>\n",
       "    <tr>\n",
       "      <th>3</th>\n",
       "      <td>Finland GDP Expands In Q4</td>\n",
       "      <td>0.000000</td>\n",
       "    </tr>\n",
       "    <tr>\n",
       "      <th>4</th>\n",
       "      <td>Tourism, govt spending buoys Thai economy in J...</td>\n",
       "      <td>0.000000</td>\n",
       "    </tr>\n",
       "  </tbody>\n",
       "</table>\n",
       "</div>"
      ],
      "text/plain": [
       "                                                text  sentiment\n",
       "0   Obama Lays Wreath at Arlington National Cemetery   0.000000\n",
       "1        A Look at the Health of the Chinese Economy   0.208333\n",
       "2   Nouriel Roubini: Global Economy Not Back to 2008  -0.425210\n",
       "3                          Finland GDP Expands In Q4   0.000000\n",
       "4  Tourism, govt spending buoys Thai economy in J...   0.000000"
      ]
     },
     "execution_count": 35,
     "metadata": {
      "tags": []
     },
     "output_type": "execute_result"
    }
   ],
   "source": [
    "df.head()"
   ]
  },
  {
   "cell_type": "markdown",
   "metadata": {
    "id": "DJLO4s8jOSn0"
   },
   "source": [
    "# Creating X and y"
   ]
  },
  {
   "cell_type": "code",
   "execution_count": 36,
   "metadata": {
    "colab": {
     "base_uri": "https://localhost:8080/"
    },
    "executionInfo": {
     "elapsed": 46,
     "status": "ok",
     "timestamp": 1627842783567,
     "user": {
      "displayName": "Anshuman Sahu",
      "photoUrl": "https://lh3.googleusercontent.com/a-/AOh14Gg_F2kTM03kFCTaJIqCiFiEFKmADKcJvwiPZYCb=s64",
      "userId": "08186410225154793586"
     },
     "user_tz": -330
    },
    "id": "9jTzzolrMpFX",
    "outputId": "2c241c53-1fef-4066-e7ff-650a89eac4ee"
   },
   "outputs": [
    {
     "name": "stdout",
     "output_type": "stream",
     "text": [
      "(101075, 1) (101075, 1)\n"
     ]
    }
   ],
   "source": [
    "X=df['text'].values.reshape(-1,1)\n",
    "y=df['sentiment'].values.reshape(-1,1)\n",
    "print(X.shape,y.shape)"
   ]
  },
  {
   "cell_type": "code",
   "execution_count": 37,
   "metadata": {
    "colab": {
     "base_uri": "https://localhost:8080/"
    },
    "executionInfo": {
     "elapsed": 42,
     "status": "ok",
     "timestamp": 1627842783569,
     "user": {
      "displayName": "Anshuman Sahu",
      "photoUrl": "https://lh3.googleusercontent.com/a-/AOh14Gg_F2kTM03kFCTaJIqCiFiEFKmADKcJvwiPZYCb=s64",
      "userId": "08186410225154793586"
     },
     "user_tz": -330
    },
    "id": "Zd5NY7v9MpH7",
    "outputId": "efa2ccfc-ffd8-46b9-8fbf-cd85d0811f34"
   },
   "outputs": [
    {
     "data": {
      "text/plain": [
       "array([['Obama Lays Wreath at Arlington National Cemetery'],\n",
       "       ['A Look at the Health of the Chinese Economy'],\n",
       "       ['Nouriel Roubini: Global Economy Not Back to 2008'],\n",
       "       ['Finland GDP Expands In Q4'],\n",
       "       ['Tourism, govt spending buoys Thai economy in January'],\n",
       "       ['Intellitec Solutions to Host 13th Annual Spring Microsoft Dynamics User Group'],\n",
       "       ['Monday, 29 Feb 2016'],\n",
       "       ['Obama, stars pay a musical tribute to Ray Charles'],\n",
       "       ['Fire claims more than 100-year-old barn in Hancock County'],\n",
       "       [\"Microsoft's new Windows 10 ad targets Apple\"]], dtype=object)"
      ]
     },
     "execution_count": 37,
     "metadata": {
      "tags": []
     },
     "output_type": "execute_result"
    }
   ],
   "source": [
    "X[:10]"
   ]
  },
  {
   "cell_type": "code",
   "execution_count": 38,
   "metadata": {
    "colab": {
     "base_uri": "https://localhost:8080/"
    },
    "executionInfo": {
     "elapsed": 37,
     "status": "ok",
     "timestamp": 1627842783570,
     "user": {
      "displayName": "Anshuman Sahu",
      "photoUrl": "https://lh3.googleusercontent.com/a-/AOh14Gg_F2kTM03kFCTaJIqCiFiEFKmADKcJvwiPZYCb=s64",
      "userId": "08186410225154793586"
     },
     "user_tz": -330
    },
    "id": "81pxq1lZMpKp",
    "outputId": "15512bf7-48b0-4d8f-cfc8-47f709de7f8a"
   },
   "outputs": [
    {
     "data": {
      "text/plain": [
       "array([[ 0.        ],\n",
       "       [ 0.20833333],\n",
       "       [-0.42521003],\n",
       "       [ 0.        ],\n",
       "       [ 0.        ],\n",
       "       [-0.07537784],\n",
       "       [ 0.        ],\n",
       "       [ 0.08333333],\n",
       "       [-0.17392527],\n",
       "       [-0.05953621]])"
      ]
     },
     "execution_count": 38,
     "metadata": {
      "tags": []
     },
     "output_type": "execute_result"
    }
   ],
   "source": [
    "y[:10]"
   ]
  },
  {
   "cell_type": "markdown",
   "metadata": {
    "id": "3ym-lzoVO2vb"
   },
   "source": [
    "# Text Cleaning"
   ]
  },
  {
   "cell_type": "code",
   "execution_count": 39,
   "metadata": {
    "executionInfo": {
     "elapsed": 2022,
     "status": "ok",
     "timestamp": 1627842785561,
     "user": {
      "displayName": "Anshuman Sahu",
      "photoUrl": "https://lh3.googleusercontent.com/a-/AOh14Gg_F2kTM03kFCTaJIqCiFiEFKmADKcJvwiPZYCb=s64",
      "userId": "08186410225154793586"
     },
     "user_tz": -330
    },
    "id": "AbSYGneaMpNb"
   },
   "outputs": [],
   "source": [
    "import re\n",
    "import string\n",
    "import spacy\n",
    "from spacy.lang.en.stop_words import STOP_WORDS\n",
    "from tqdm import tqdm"
   ]
  },
  {
   "cell_type": "code",
   "execution_count": 40,
   "metadata": {
    "colab": {
     "base_uri": "https://localhost:8080/"
    },
    "executionInfo": {
     "elapsed": 32,
     "status": "ok",
     "timestamp": 1627842785562,
     "user": {
      "displayName": "Anshuman Sahu",
      "photoUrl": "https://lh3.googleusercontent.com/a-/AOh14Gg_F2kTM03kFCTaJIqCiFiEFKmADKcJvwiPZYCb=s64",
      "userId": "08186410225154793586"
     },
     "user_tz": -330
    },
    "id": "ntTZLEQyMpQU",
    "outputId": "6646c06d-3d9d-4b23-ddd5-a2cad1c0d589"
   },
   "outputs": [
    {
     "data": {
      "text/plain": [
       "True"
      ]
     },
     "execution_count": 40,
     "metadata": {
      "tags": []
     },
     "output_type": "execute_result"
    }
   ],
   "source": [
    "\"not\" in STOP_WORDS"
   ]
  },
  {
   "cell_type": "code",
   "execution_count": 41,
   "metadata": {
    "colab": {
     "base_uri": "https://localhost:8080/",
     "height": 35
    },
    "executionInfo": {
     "elapsed": 28,
     "status": "ok",
     "timestamp": 1627842785564,
     "user": {
      "displayName": "Anshuman Sahu",
      "photoUrl": "https://lh3.googleusercontent.com/a-/AOh14Gg_F2kTM03kFCTaJIqCiFiEFKmADKcJvwiPZYCb=s64",
      "userId": "08186410225154793586"
     },
     "user_tz": -330
    },
    "id": "5s6kpcqSMpTI",
    "outputId": "eab6085d-d820-4489-dc17-46299cab4668"
   },
   "outputs": [
    {
     "data": {
      "application/vnd.google.colaboratory.intrinsic+json": {
       "type": "string"
      },
      "text/plain": [
       "'!\"#$%&\\'()*+,-./:;<=>?@[\\\\]^_`{|}~'"
      ]
     },
     "execution_count": 41,
     "metadata": {
      "tags": []
     },
     "output_type": "execute_result"
    }
   ],
   "source": [
    "string.punctuation"
   ]
  },
  {
   "cell_type": "code",
   "execution_count": 42,
   "metadata": {
    "colab": {
     "base_uri": "https://localhost:8080/"
    },
    "executionInfo": {
     "elapsed": 25,
     "status": "ok",
     "timestamp": 1627842785565,
     "user": {
      "displayName": "Anshuman Sahu",
      "photoUrl": "https://lh3.googleusercontent.com/a-/AOh14Gg_F2kTM03kFCTaJIqCiFiEFKmADKcJvwiPZYCb=s64",
      "userId": "08186410225154793586"
     },
     "user_tz": -330
    },
    "id": "sqP27R5JMpVp",
    "outputId": "7b2a03d6-24e9-447e-b742-dc047a5e95de"
   },
   "outputs": [
    {
     "name": "stdout",
     "output_type": "stream",
     "text": [
      "!#$%&()*+,-./:;<=>?@[\\]^_`{|}~\n"
     ]
    }
   ],
   "source": [
    "punct = \"!#$%&()*+,-./:;<=>?@[\\]^_`{|}~\"\n",
    "print(punct)"
   ]
  },
  {
   "cell_type": "code",
   "execution_count": 43,
   "metadata": {
    "executionInfo": {
     "elapsed": 941,
     "status": "ok",
     "timestamp": 1627842786488,
     "user": {
      "displayName": "Anshuman Sahu",
      "photoUrl": "https://lh3.googleusercontent.com/a-/AOh14Gg_F2kTM03kFCTaJIqCiFiEFKmADKcJvwiPZYCb=s64",
      "userId": "08186410225154793586"
     },
     "user_tz": -330
    },
    "id": "W0lpERoeMpYi"
   },
   "outputs": [],
   "source": [
    "nlp = spacy.load('en_core_web_sm')"
   ]
  },
  {
   "cell_type": "code",
   "execution_count": 44,
   "metadata": {
    "colab": {
     "base_uri": "https://localhost:8080/"
    },
    "executionInfo": {
     "elapsed": 475,
     "status": "ok",
     "timestamp": 1627842786953,
     "user": {
      "displayName": "Anshuman Sahu",
      "photoUrl": "https://lh3.googleusercontent.com/a-/AOh14Gg_F2kTM03kFCTaJIqCiFiEFKmADKcJvwiPZYCb=s64",
      "userId": "08186410225154793586"
     },
     "user_tz": -330
    },
    "id": "MV6ZGwC7MpbQ",
    "outputId": "462e2061-6ae8-4f51-c1a6-084ea3856cb3"
   },
   "outputs": [
    {
     "name": "stdout",
     "output_type": "stream",
     "text": [
      "-PRON-\n",
      "would\n",
      "can\n",
      "not\n",
      "do\n",
      "this\n",
      "and\n",
      "-PRON-\n",
      "be\n",
      "difficult\n",
      ".\n",
      "-PRON-\n",
      "website\n",
      "n't\n",
      "www.google.com\n"
     ]
    }
   ],
   "source": [
    "doc = nlp(\"Id cant do this and it's difficult. My website n't www.google.com\")\n",
    "for token in doc:\n",
    "  print(token.lemma_)"
   ]
  },
  {
   "cell_type": "code",
   "execution_count": 45,
   "metadata": {
    "colab": {
     "base_uri": "https://localhost:8080/"
    },
    "executionInfo": {
     "elapsed": 946,
     "status": "ok",
     "timestamp": 1627842787890,
     "user": {
      "displayName": "Anshuman Sahu",
      "photoUrl": "https://lh3.googleusercontent.com/a-/AOh14Gg_F2kTM03kFCTaJIqCiFiEFKmADKcJvwiPZYCb=s64",
      "userId": "08186410225154793586"
     },
     "user_tz": -330
    },
    "id": "jMNmNqi-Pz6M",
    "outputId": "5024231d-0ffb-450c-dc6c-248156d72261"
   },
   "outputs": [
    {
     "name": "stdout",
     "output_type": "stream",
     "text": [
      "[nltk_data] Downloading package stopwords to /root/nltk_data...\n",
      "[nltk_data]   Unzipping corpora/stopwords.zip.\n",
      "['i', 'me', 'my', 'myself', 'we', 'our', 'ours', 'ourselves', 'you', \"you're\", \"you've\", \"you'll\", \"you'd\", 'your', 'yours', 'yourself', 'yourselves', 'he', 'him', 'his', 'himself', 'she', \"she's\", 'her', 'hers', 'herself', 'it', \"it's\", 'its', 'itself', 'they', 'them', 'their', 'theirs', 'themselves', 'what', 'which', 'who', 'whom', 'this', 'that', \"that'll\", 'these', 'those', 'am', 'is', 'are', 'was', 'were', 'be', 'been', 'being', 'have', 'has', 'had', 'having', 'do', 'does', 'did', 'doing', 'a', 'an', 'the', 'and', 'but', 'if', 'or', 'because', 'as', 'until', 'while', 'of', 'at', 'by', 'for', 'with', 'about', 'against', 'between', 'into', 'through', 'during', 'before', 'after', 'above', 'below', 'to', 'from', 'up', 'down', 'in', 'out', 'on', 'off', 'over', 'under', 'again', 'further', 'then', 'once', 'here', 'there', 'when', 'where', 'why', 'how', 'all', 'any', 'both', 'each', 'few', 'more', 'most', 'other', 'some', 'such', 'no', 'nor', 'not', 'only', 'own', 'same', 'so', 'than', 'too', 'very', 's', 't', 'can', 'will', 'just', 'don', \"don't\", 'should', \"should've\", 'now', 'd', 'll', 'm', 'o', 're', 've', 'y', 'ain', 'aren', \"aren't\", 'couldn', \"couldn't\", 'didn', \"didn't\", 'doesn', \"doesn't\", 'hadn', \"hadn't\", 'hasn', \"hasn't\", 'haven', \"haven't\", 'isn', \"isn't\", 'ma', 'mightn', \"mightn't\", 'mustn', \"mustn't\", 'needn', \"needn't\", 'shan', \"shan't\", 'shouldn', \"shouldn't\", 'wasn', \"wasn't\", 'weren', \"weren't\", 'won', \"won't\", 'wouldn', \"wouldn't\"]\n"
     ]
    }
   ],
   "source": [
    "import nltk\n",
    "nltk.download('stopwords')\n",
    "from nltk.corpus import stopwords\n",
    "print(stopwords.words('english'))"
   ]
  },
  {
   "cell_type": "code",
   "execution_count": 46,
   "metadata": {
    "executionInfo": {
     "elapsed": 17,
     "status": "ok",
     "timestamp": 1627842787891,
     "user": {
      "displayName": "Anshuman Sahu",
      "photoUrl": "https://lh3.googleusercontent.com/a-/AOh14Gg_F2kTM03kFCTaJIqCiFiEFKmADKcJvwiPZYCb=s64",
      "userId": "08186410225154793586"
     },
     "user_tz": -330
    },
    "id": "dLqLXL8eP0EJ"
   },
   "outputs": [],
   "source": [
    "def text_cleaning(X):\n",
    "  corpus = []\n",
    "  for i in tqdm(range(0,len(X))):\n",
    "    sen = re.sub(\"http?\\S+\",\" \",X[i][0])\n",
    "    sen = re.sub('[^a-zA-Z]', ' ', sen)\n",
    "    doc = nlp(sen)\n",
    "    tokens = []\n",
    "    for token in doc:\n",
    "      if token.lemma_ != \"-PRON-\":\n",
    "        temp = token.lemma_.lower().strip()\n",
    "      else:\n",
    "        temp = token.lower_.strip()\n",
    "      tokens.append(temp)\n",
    "      tokens = [token for token in tokens if token not in punct]\n",
    "    corpus.append(' '.join(tokens))\n",
    "  return corpus"
   ]
  },
  {
   "cell_type": "code",
   "execution_count": 47,
   "metadata": {
    "colab": {
     "base_uri": "https://localhost:8080/"
    },
    "executionInfo": {
     "elapsed": 842661,
     "status": "ok",
     "timestamp": 1627843630537,
     "user": {
      "displayName": "Anshuman Sahu",
      "photoUrl": "https://lh3.googleusercontent.com/a-/AOh14Gg_F2kTM03kFCTaJIqCiFiEFKmADKcJvwiPZYCb=s64",
      "userId": "08186410225154793586"
     },
     "user_tz": -330
    },
    "id": "QVP8zTqHP0HP",
    "outputId": "ce11d881-9377-4ee9-ab77-199f7925f1a8"
   },
   "outputs": [
    {
     "name": "stderr",
     "output_type": "stream",
     "text": [
      "100%|██████████| 101075/101075 [14:02<00:00, 119.97it/s]"
     ]
    },
    {
     "name": "stdout",
     "output_type": "stream",
     "text": [
      "cleaning done..\n"
     ]
    },
    {
     "name": "stderr",
     "output_type": "stream",
     "text": [
      "\n"
     ]
    }
   ],
   "source": [
    "corpus = text_cleaning(X)\n",
    "print('cleaning done..')"
   ]
  },
  {
   "cell_type": "code",
   "execution_count": 48,
   "metadata": {
    "colab": {
     "base_uri": "https://localhost:8080/"
    },
    "executionInfo": {
     "elapsed": 33,
     "status": "ok",
     "timestamp": 1627843630537,
     "user": {
      "displayName": "Anshuman Sahu",
      "photoUrl": "https://lh3.googleusercontent.com/a-/AOh14Gg_F2kTM03kFCTaJIqCiFiEFKmADKcJvwiPZYCb=s64",
      "userId": "08186410225154793586"
     },
     "user_tz": -330
    },
    "id": "5XLND6-tP0KQ",
    "outputId": "71851c54-bcc0-4401-f400-8a6bcfb69f3d"
   },
   "outputs": [
    {
     "data": {
      "text/plain": [
       "101075"
      ]
     },
     "execution_count": 48,
     "metadata": {
      "tags": []
     },
     "output_type": "execute_result"
    }
   ],
   "source": [
    "len(corpus)"
   ]
  },
  {
   "cell_type": "code",
   "execution_count": 49,
   "metadata": {
    "colab": {
     "base_uri": "https://localhost:8080/"
    },
    "executionInfo": {
     "elapsed": 20,
     "status": "ok",
     "timestamp": 1627843630538,
     "user": {
      "displayName": "Anshuman Sahu",
      "photoUrl": "https://lh3.googleusercontent.com/a-/AOh14Gg_F2kTM03kFCTaJIqCiFiEFKmADKcJvwiPZYCb=s64",
      "userId": "08186410225154793586"
     },
     "user_tz": -330
    },
    "id": "d3DFEVZ6w1je",
    "outputId": "6eca0575-88b6-4f19-cdb1-fc35f7f3b73a"
   },
   "outputs": [
    {
     "data": {
      "text/plain": [
       "Index(['IDLink', 'Title', 'Headline', 'Source', 'Topic', 'PublishDate',\n",
       "       'Facebook', 'GooglePlus', 'LinkedIn'],\n",
       "      dtype='object')"
      ]
     },
     "execution_count": 49,
     "metadata": {
      "tags": []
     },
     "output_type": "execute_result"
    }
   ],
   "source": [
    "test.columns"
   ]
  },
  {
   "cell_type": "code",
   "execution_count": 50,
   "metadata": {
    "colab": {
     "base_uri": "https://localhost:8080/"
    },
    "executionInfo": {
     "elapsed": 17,
     "status": "ok",
     "timestamp": 1627843630538,
     "user": {
      "displayName": "Anshuman Sahu",
      "photoUrl": "https://lh3.googleusercontent.com/a-/AOh14Gg_F2kTM03kFCTaJIqCiFiEFKmADKcJvwiPZYCb=s64",
      "userId": "08186410225154793586"
     },
     "user_tz": -330
    },
    "id": "JyYz7aEFP0NL",
    "outputId": "b2f1a0f2-659c-44a0-a999-0c8a1ae2b8e5"
   },
   "outputs": [
    {
     "name": "stdout",
     "output_type": "stream",
     "text": [
      "(37288, 1)\n",
      "(37288, 1)\n"
     ]
    }
   ],
   "source": [
    "X_test_title= test['Title'].values.reshape(-1,1).copy()\n",
    "print(X_test_title.shape)\n",
    "\n",
    "X_test_head= test['Headline'].values.reshape(-1,1).copy()\n",
    "print(X_test_head.shape)"
   ]
  },
  {
   "cell_type": "code",
   "execution_count": 51,
   "metadata": {
    "colab": {
     "base_uri": "https://localhost:8080/"
    },
    "executionInfo": {
     "elapsed": 597343,
     "status": "ok",
     "timestamp": 1627844227868,
     "user": {
      "displayName": "Anshuman Sahu",
      "photoUrl": "https://lh3.googleusercontent.com/a-/AOh14Gg_F2kTM03kFCTaJIqCiFiEFKmADKcJvwiPZYCb=s64",
      "userId": "08186410225154793586"
     },
     "user_tz": -330
    },
    "id": "4mMbAUg3P0Ti",
    "outputId": "e13ca8f1-927b-422b-faf2-6509633c1106"
   },
   "outputs": [
    {
     "name": "stderr",
     "output_type": "stream",
     "text": [
      "100%|██████████| 37288/37288 [04:14<00:00, 146.61it/s]\n",
      "  0%|          | 11/37288 [00:00<05:50, 106.41it/s]"
     ]
    },
    {
     "name": "stdout",
     "output_type": "stream",
     "text": [
      "cleaning done..\n"
     ]
    },
    {
     "name": "stderr",
     "output_type": "stream",
     "text": [
      "100%|██████████| 37288/37288 [05:43<00:00, 108.63it/s]"
     ]
    },
    {
     "name": "stdout",
     "output_type": "stream",
     "text": [
      "cleaning done..\n"
     ]
    },
    {
     "name": "stderr",
     "output_type": "stream",
     "text": [
      "\n"
     ]
    }
   ],
   "source": [
    "corpus_test_title = text_cleaning(X_test_title)\n",
    "print('cleaning done..')\n",
    "\n",
    "corpus_test_head = text_cleaning(X_test_head)\n",
    "print('cleaning done..')"
   ]
  },
  {
   "cell_type": "markdown",
   "metadata": {
    "id": "_lMaGkWu0tiQ"
   },
   "source": [
    "# Find max len"
   ]
  },
  {
   "cell_type": "code",
   "execution_count": 52,
   "metadata": {
    "colab": {
     "base_uri": "https://localhost:8080/"
    },
    "executionInfo": {
     "elapsed": 470,
     "status": "ok",
     "timestamp": 1627844228322,
     "user": {
      "displayName": "Anshuman Sahu",
      "photoUrl": "https://lh3.googleusercontent.com/a-/AOh14Gg_F2kTM03kFCTaJIqCiFiEFKmADKcJvwiPZYCb=s64",
      "userId": "08186410225154793586"
     },
     "user_tz": -330
    },
    "id": "6FbiAb72P0f9",
    "outputId": "8dfddc9d-6444-494d-c36f-ccc62e19d112"
   },
   "outputs": [
    {
     "data": {
      "text/plain": [
       "80"
      ]
     },
     "execution_count": 52,
     "metadata": {
      "tags": []
     },
     "output_type": "execute_result"
    }
   ],
   "source": [
    "max([len(i[0].split()) for i in X])"
   ]
  },
  {
   "cell_type": "code",
   "execution_count": 53,
   "metadata": {
    "colab": {
     "base_uri": "https://localhost:8080/"
    },
    "executionInfo": {
     "elapsed": 32,
     "status": "ok",
     "timestamp": 1627844228323,
     "user": {
      "displayName": "Anshuman Sahu",
      "photoUrl": "https://lh3.googleusercontent.com/a-/AOh14Gg_F2kTM03kFCTaJIqCiFiEFKmADKcJvwiPZYCb=s64",
      "userId": "08186410225154793586"
     },
     "user_tz": -330
    },
    "id": "lvxNxiYc1MvA",
    "outputId": "a0fedce1-dcda-46ee-dcc7-eb1f3ccf6193"
   },
   "outputs": [
    {
     "data": {
      "text/plain": [
       "87"
      ]
     },
     "execution_count": 53,
     "metadata": {
      "tags": []
     },
     "output_type": "execute_result"
    }
   ],
   "source": [
    "max([len(i.split()) for i in corpus])"
   ]
  },
  {
   "cell_type": "code",
   "execution_count": 54,
   "metadata": {
    "colab": {
     "base_uri": "https://localhost:8080/"
    },
    "executionInfo": {
     "elapsed": 27,
     "status": "ok",
     "timestamp": 1627844228323,
     "user": {
      "displayName": "Anshuman Sahu",
      "photoUrl": "https://lh3.googleusercontent.com/a-/AOh14Gg_F2kTM03kFCTaJIqCiFiEFKmADKcJvwiPZYCb=s64",
      "userId": "08186410225154793586"
     },
     "user_tz": -330
    },
    "id": "EW6p8gzj2VHb",
    "outputId": "b1880f67-1b5f-4ebd-ab6e-3e032a0e429d"
   },
   "outputs": [
    {
     "data": {
      "text/plain": [
       "23"
      ]
     },
     "execution_count": 54,
     "metadata": {
      "tags": []
     },
     "output_type": "execute_result"
    }
   ],
   "source": [
    "max([len(i.split()) for i in corpus_test_title])"
   ]
  },
  {
   "cell_type": "code",
   "execution_count": 55,
   "metadata": {
    "colab": {
     "base_uri": "https://localhost:8080/"
    },
    "executionInfo": {
     "elapsed": 22,
     "status": "ok",
     "timestamp": 1627844228323,
     "user": {
      "displayName": "Anshuman Sahu",
      "photoUrl": "https://lh3.googleusercontent.com/a-/AOh14Gg_F2kTM03kFCTaJIqCiFiEFKmADKcJvwiPZYCb=s64",
      "userId": "08186410225154793586"
     },
     "user_tz": -330
    },
    "id": "BdkxbF1H2VKr",
    "outputId": "c824216b-4302-4b23-fb1d-e958edc20989"
   },
   "outputs": [
    {
     "data": {
      "text/plain": [
       "82"
      ]
     },
     "execution_count": 55,
     "metadata": {
      "tags": []
     },
     "output_type": "execute_result"
    }
   ],
   "source": [
    "max([len(i.split()) for i in corpus_test_head])"
   ]
  },
  {
   "cell_type": "markdown",
   "metadata": {
    "id": "kPfLQJEq23KO"
   },
   "source": [
    "# Onehot"
   ]
  },
  {
   "cell_type": "code",
   "execution_count": 56,
   "metadata": {
    "executionInfo": {
     "elapsed": 19,
     "status": "ok",
     "timestamp": 1627844228324,
     "user": {
      "displayName": "Anshuman Sahu",
      "photoUrl": "https://lh3.googleusercontent.com/a-/AOh14Gg_F2kTM03kFCTaJIqCiFiEFKmADKcJvwiPZYCb=s64",
      "userId": "08186410225154793586"
     },
     "user_tz": -330
    },
    "id": "oJ7wn1av0rPX"
   },
   "outputs": [],
   "source": [
    "from tensorflow.keras.preprocessing.text import one_hot\n",
    "from tensorflow.keras.preprocessing.sequence import pad_sequences\n",
    "voc_size = 25000"
   ]
  },
  {
   "cell_type": "code",
   "execution_count": 57,
   "metadata": {
    "colab": {
     "base_uri": "https://localhost:8080/"
    },
    "executionInfo": {
     "elapsed": 17,
     "status": "ok",
     "timestamp": 1627844228324,
     "user": {
      "displayName": "Anshuman Sahu",
      "photoUrl": "https://lh3.googleusercontent.com/a-/AOh14Gg_F2kTM03kFCTaJIqCiFiEFKmADKcJvwiPZYCb=s64",
      "userId": "08186410225154793586"
     },
     "user_tz": -330
    },
    "id": "UzeSJEw80rSx",
    "outputId": "de85611e-b291-4200-ce06-39b200e28b4f"
   },
   "outputs": [
    {
     "name": "stdout",
     "output_type": "stream",
     "text": [
      "101075 37288 37288\n"
     ]
    }
   ],
   "source": [
    "print(len(corpus),len(corpus_test_title),len(corpus_test_head))"
   ]
  },
  {
   "cell_type": "code",
   "execution_count": 58,
   "metadata": {
    "colab": {
     "base_uri": "https://localhost:8080/"
    },
    "executionInfo": {
     "elapsed": 14,
     "status": "ok",
     "timestamp": 1627844228324,
     "user": {
      "displayName": "Anshuman Sahu",
      "photoUrl": "https://lh3.googleusercontent.com/a-/AOh14Gg_F2kTM03kFCTaJIqCiFiEFKmADKcJvwiPZYCb=s64",
      "userId": "08186410225154793586"
     },
     "user_tz": -330
    },
    "id": "HIowERJ30rVT",
    "outputId": "621ed8a9-7165-4606-bfce-c8b68c0a2556"
   },
   "outputs": [
    {
     "data": {
      "text/plain": [
       "175651"
      ]
     },
     "execution_count": 58,
     "metadata": {
      "tags": []
     },
     "output_type": "execute_result"
    }
   ],
   "source": [
    "corpus_tot = corpus+corpus_test_title+corpus_test_head\n",
    "len(corpus_tot)"
   ]
  },
  {
   "cell_type": "code",
   "execution_count": 59,
   "metadata": {
    "executionInfo": {
     "elapsed": 3262,
     "status": "ok",
     "timestamp": 1627844231575,
     "user": {
      "displayName": "Anshuman Sahu",
      "photoUrl": "https://lh3.googleusercontent.com/a-/AOh14Gg_F2kTM03kFCTaJIqCiFiEFKmADKcJvwiPZYCb=s64",
      "userId": "08186410225154793586"
     },
     "user_tz": -330
    },
    "id": "dz-yv_5r0rYC"
   },
   "outputs": [],
   "source": [
    "onehot_rep = [one_hot(words, n=voc_size) for words in corpus_tot]"
   ]
  },
  {
   "cell_type": "code",
   "execution_count": 60,
   "metadata": {
    "colab": {
     "base_uri": "https://localhost:8080/"
    },
    "executionInfo": {
     "elapsed": 12,
     "status": "ok",
     "timestamp": 1627844231575,
     "user": {
      "displayName": "Anshuman Sahu",
      "photoUrl": "https://lh3.googleusercontent.com/a-/AOh14Gg_F2kTM03kFCTaJIqCiFiEFKmADKcJvwiPZYCb=s64",
      "userId": "08186410225154793586"
     },
     "user_tz": -330
    },
    "id": "dK22G6dW0rb1",
    "outputId": "15a328bd-6ee7-45e7-b3a5-ddaaf30100c0"
   },
   "outputs": [
    {
     "data": {
      "text/plain": [
       "[[23603, 15760, 5878, 14445, 699, 1345, 338],\n",
       " [17688, 15929, 14445, 16024, 9723, 23164, 16024, 1745, 5533],\n",
       " [15016, 7669, 5841, 5533, 1873, 22676, 17535],\n",
       " [9599, 22074, 2238, 15758, 14767],\n",
       " [7066, 21180, 728, 8589, 23546, 5533, 15758, 16646]]"
      ]
     },
     "execution_count": 60,
     "metadata": {
      "tags": []
     },
     "output_type": "execute_result"
    }
   ],
   "source": [
    "onehot_rep[:5]"
   ]
  },
  {
   "cell_type": "code",
   "execution_count": 61,
   "metadata": {
    "colab": {
     "base_uri": "https://localhost:8080/"
    },
    "executionInfo": {
     "elapsed": 11,
     "status": "ok",
     "timestamp": 1627844231576,
     "user": {
      "displayName": "Anshuman Sahu",
      "photoUrl": "https://lh3.googleusercontent.com/a-/AOh14Gg_F2kTM03kFCTaJIqCiFiEFKmADKcJvwiPZYCb=s64",
      "userId": "08186410225154793586"
     },
     "user_tz": -330
    },
    "id": "n3zwIse90reK",
    "outputId": "9c6ad39d-b3a9-4a8f-d3d7-4e9a889f5a3b"
   },
   "outputs": [
    {
     "data": {
      "text/plain": [
       "175651"
      ]
     },
     "execution_count": 61,
     "metadata": {
      "tags": []
     },
     "output_type": "execute_result"
    }
   ],
   "source": [
    "len(onehot_rep)"
   ]
  },
  {
   "cell_type": "code",
   "execution_count": 62,
   "metadata": {
    "colab": {
     "base_uri": "https://localhost:8080/"
    },
    "executionInfo": {
     "elapsed": 760,
     "status": "ok",
     "timestamp": 1627844232329,
     "user": {
      "displayName": "Anshuman Sahu",
      "photoUrl": "https://lh3.googleusercontent.com/a-/AOh14Gg_F2kTM03kFCTaJIqCiFiEFKmADKcJvwiPZYCb=s64",
      "userId": "08186410225154793586"
     },
     "user_tz": -330
    },
    "id": "ZtgtDq880rhL",
    "outputId": "a981f782-0aa8-404a-82cd-199c0bc23d1c"
   },
   "outputs": [
    {
     "name": "stdout",
     "output_type": "stream",
     "text": [
      "[    0     0     0     0     0     0     0     0     0     0     0     0\n",
      "     0     0     0     0     0     0     0     0     0     0     0     0\n",
      "     0     0     0     0     0     0     0     0     0     0     0     0\n",
      "     0     0     0     0     0     0     0     0     0     0     0     0\n",
      "     0     0     0     0     0     0     0     0     0     0     0     0\n",
      "     0     0     0     0     0     0     0     0     0     0     0     0\n",
      "     0     0     0     0     0     0     0     0     0     0     0 23603\n",
      " 15760  5878 14445   699  1345   338]\n"
     ]
    }
   ],
   "source": [
    "sent_length = 90\n",
    "embedded_docs = pad_sequences(onehot_rep, padding='pre', maxlen=sent_length)\n",
    "print(embedded_docs[0])"
   ]
  },
  {
   "cell_type": "code",
   "execution_count": 63,
   "metadata": {
    "colab": {
     "base_uri": "https://localhost:8080/"
    },
    "executionInfo": {
     "elapsed": 16,
     "status": "ok",
     "timestamp": 1627844232329,
     "user": {
      "displayName": "Anshuman Sahu",
      "photoUrl": "https://lh3.googleusercontent.com/a-/AOh14Gg_F2kTM03kFCTaJIqCiFiEFKmADKcJvwiPZYCb=s64",
      "userId": "08186410225154793586"
     },
     "user_tz": -330
    },
    "id": "WlbD5n5v0roJ",
    "outputId": "a36a74c9-4dca-426b-93ae-361d131a4f79"
   },
   "outputs": [
    {
     "name": "stdout",
     "output_type": "stream",
     "text": [
      "101075 37288 37288\n",
      "101075 37288 37288\n"
     ]
    }
   ],
   "source": [
    "embedded_docs_train = embedded_docs[:len(corpus)]\n",
    "embedded_docs_test_title = embedded_docs[len(corpus):len(corpus)+len(corpus_test_title)]\n",
    "embedded_docs_test_head = embedded_docs[len(corpus)+len(corpus_test_title):]\n",
    "\n",
    "print(len(corpus),len(corpus_test_title),len(corpus_test_head))\n",
    "print(len(embedded_docs_train),len(embedded_docs_test_title),len(embedded_docs_test_head))"
   ]
  },
  {
   "cell_type": "markdown",
   "metadata": {
    "id": "7Bfvw4Vt6x6N"
   },
   "source": [
    "# Split data"
   ]
  },
  {
   "cell_type": "code",
   "execution_count": 64,
   "metadata": {
    "colab": {
     "base_uri": "https://localhost:8080/"
    },
    "executionInfo": {
     "elapsed": 14,
     "status": "ok",
     "timestamp": 1627844232330,
     "user": {
      "displayName": "Anshuman Sahu",
      "photoUrl": "https://lh3.googleusercontent.com/a-/AOh14Gg_F2kTM03kFCTaJIqCiFiEFKmADKcJvwiPZYCb=s64",
      "userId": "08186410225154793586"
     },
     "user_tz": -330
    },
    "id": "DTTWN1-o6851",
    "outputId": "8a1bc49d-bec5-4304-d569-387a29a25008"
   },
   "outputs": [
    {
     "data": {
      "text/plain": [
       "((101075, 90), (101075, 1), (37288, 90), (37288, 90))"
      ]
     },
     "execution_count": 64,
     "metadata": {
      "tags": []
     },
     "output_type": "execute_result"
    }
   ],
   "source": [
    "embedded_docs_train.shape, y.shape, embedded_docs_test_title.shape, embedded_docs_test_head.shape"
   ]
  },
  {
   "cell_type": "code",
   "execution_count": 65,
   "metadata": {
    "colab": {
     "base_uri": "https://localhost:8080/"
    },
    "executionInfo": {
     "elapsed": 10,
     "status": "ok",
     "timestamp": 1627844232330,
     "user": {
      "displayName": "Anshuman Sahu",
      "photoUrl": "https://lh3.googleusercontent.com/a-/AOh14Gg_F2kTM03kFCTaJIqCiFiEFKmADKcJvwiPZYCb=s64",
      "userId": "08186410225154793586"
     },
     "user_tz": -330
    },
    "id": "VcjHrXEm41Jp",
    "outputId": "ea78eda9-1710-4399-9843-c63386ed8c3c"
   },
   "outputs": [
    {
     "data": {
      "text/plain": [
       "((67720, 90), (67720, 1), (33355, 90), (33355, 1))"
      ]
     },
     "execution_count": 65,
     "metadata": {
      "tags": []
     },
     "output_type": "execute_result"
    }
   ],
   "source": [
    "from sklearn.model_selection import train_test_split\n",
    "\n",
    "X_train, X_val, y_train, y_val = train_test_split(embedded_docs_train, y, test_size=0.33, random_state = 42, shuffle=True)\n",
    "\n",
    "X_train.shape, y_train.shape, X_val.shape, y_val.shape"
   ]
  },
  {
   "cell_type": "markdown",
   "metadata": {
    "id": "aADPnASL7jki"
   },
   "source": [
    "# Model"
   ]
  },
  {
   "cell_type": "code",
   "execution_count": 66,
   "metadata": {
    "executionInfo": {
     "elapsed": 7,
     "status": "ok",
     "timestamp": 1627844232330,
     "user": {
      "displayName": "Anshuman Sahu",
      "photoUrl": "https://lh3.googleusercontent.com/a-/AOh14Gg_F2kTM03kFCTaJIqCiFiEFKmADKcJvwiPZYCb=s64",
      "userId": "08186410225154793586"
     },
     "user_tz": -330
    },
    "id": "wgHiytfP41SG"
   },
   "outputs": [],
   "source": [
    "from tensorflow.keras.models import Sequential\n",
    "from tensorflow.keras.layers import LSTM, Dense, Bidirectional, Dropout, Embedding, Flatten\n",
    "from tensorflow.keras.callbacks import EarlyStopping"
   ]
  },
  {
   "cell_type": "code",
   "execution_count": 67,
   "metadata": {
    "colab": {
     "base_uri": "https://localhost:8080/"
    },
    "executionInfo": {
     "elapsed": 5715,
     "status": "ok",
     "timestamp": 1627844238038,
     "user": {
      "displayName": "Anshuman Sahu",
      "photoUrl": "https://lh3.googleusercontent.com/a-/AOh14Gg_F2kTM03kFCTaJIqCiFiEFKmADKcJvwiPZYCb=s64",
      "userId": "08186410225154793586"
     },
     "user_tz": -330
    },
    "id": "86jxBG9341U3",
    "outputId": "16792951-b8ac-412a-df26-b45d15a33dc7"
   },
   "outputs": [
    {
     "name": "stdout",
     "output_type": "stream",
     "text": [
      "Model: \"sequential\"\n",
      "_________________________________________________________________\n",
      "Layer (type)                 Output Shape              Param #   \n",
      "=================================================================\n",
      "embedding (Embedding)        (None, 90, 128)           3200000   \n",
      "_________________________________________________________________\n",
      "bidirectional (Bidirectional (None, 90, 256)           263168    \n",
      "_________________________________________________________________\n",
      "dropout (Dropout)            (None, 90, 256)           0         \n",
      "_________________________________________________________________\n",
      "flatten (Flatten)            (None, 23040)             0         \n",
      "_________________________________________________________________\n",
      "dense (Dense)                (None, 1)                 23041     \n",
      "=================================================================\n",
      "Total params: 3,486,209\n",
      "Trainable params: 3,486,209\n",
      "Non-trainable params: 0\n",
      "_________________________________________________________________\n",
      "None\n"
     ]
    }
   ],
   "source": [
    "embedding_dim=128\n",
    "\n",
    "model_bilstm=Sequential()\n",
    "model_bilstm.add(Embedding(voc_size,embedding_dim,input_length=sent_length))\n",
    "model_bilstm.add(Bidirectional(LSTM(128, return_sequences=True)))\n",
    "model_bilstm.add(Dropout(0.25))\n",
    "model_bilstm.add(Flatten())\n",
    "model_bilstm.add(Dense(1))\n",
    "model_bilstm.compile(loss='mean_squared_error',optimizer='adam')\n",
    "print(model_bilstm.summary())"
   ]
  },
  {
   "cell_type": "code",
   "execution_count": 68,
   "metadata": {
    "executionInfo": {
     "elapsed": 22,
     "status": "ok",
     "timestamp": 1627844238039,
     "user": {
      "displayName": "Anshuman Sahu",
      "photoUrl": "https://lh3.googleusercontent.com/a-/AOh14Gg_F2kTM03kFCTaJIqCiFiEFKmADKcJvwiPZYCb=s64",
      "userId": "08186410225154793586"
     },
     "user_tz": -330
    },
    "id": "rHLzi3iG41X7"
   },
   "outputs": [],
   "source": [
    "# from keras.utils.vis_utils import plot_model\n",
    "\n",
    "# plot_model(model=model_bilstm, to_file='model.png')"
   ]
  },
  {
   "cell_type": "code",
   "execution_count": 87,
   "metadata": {
    "executionInfo": {
     "elapsed": 415,
     "status": "ok",
     "timestamp": 1627847339099,
     "user": {
      "displayName": "Anshuman Sahu",
      "photoUrl": "https://lh3.googleusercontent.com/a-/AOh14Gg_F2kTM03kFCTaJIqCiFiEFKmADKcJvwiPZYCb=s64",
      "userId": "08186410225154793586"
     },
     "user_tz": -330
    },
    "id": "9FBoEssu41ak"
   },
   "outputs": [],
   "source": [
    "early_s = EarlyStopping(monitor='val_loss', patience=10, restore_best_weights=True, verbose=1)"
   ]
  },
  {
   "cell_type": "code",
   "execution_count": 88,
   "metadata": {
    "colab": {
     "base_uri": "https://localhost:8080/"
    },
    "executionInfo": {
     "elapsed": 95051,
     "status": "ok",
     "timestamp": 1627847437595,
     "user": {
      "displayName": "Anshuman Sahu",
      "photoUrl": "https://lh3.googleusercontent.com/a-/AOh14Gg_F2kTM03kFCTaJIqCiFiEFKmADKcJvwiPZYCb=s64",
      "userId": "08186410225154793586"
     },
     "user_tz": -330
    },
    "id": "uyKgDpul41dP",
    "outputId": "6ec9bae5-c1ab-4c95-d58b-3a3204ded27c"
   },
   "outputs": [
    {
     "name": "stdout",
     "output_type": "stream",
     "text": [
      "Epoch 1/20\n",
      "67/67 [==============================] - 9s 127ms/step - loss: 0.0013 - val_loss: 0.0092\n",
      "Epoch 2/20\n",
      "67/67 [==============================] - 9s 127ms/step - loss: 0.0012 - val_loss: 0.0092\n",
      "Epoch 3/20\n",
      "67/67 [==============================] - 9s 127ms/step - loss: 0.0012 - val_loss: 0.0093\n",
      "Epoch 4/20\n",
      "67/67 [==============================] - 9s 129ms/step - loss: 0.0011 - val_loss: 0.0094\n",
      "Epoch 5/20\n",
      "67/67 [==============================] - 9s 131ms/step - loss: 0.0010 - val_loss: 0.0095\n",
      "Epoch 6/20\n",
      "67/67 [==============================] - 9s 130ms/step - loss: 0.0010 - val_loss: 0.0096\n",
      "Epoch 7/20\n",
      "67/67 [==============================] - 9s 128ms/step - loss: 9.8410e-04 - val_loss: 0.0097\n",
      "Epoch 8/20\n",
      "67/67 [==============================] - 9s 130ms/step - loss: 9.3683e-04 - val_loss: 0.0098\n",
      "Epoch 9/20\n",
      "67/67 [==============================] - 9s 128ms/step - loss: 9.0478e-04 - val_loss: 0.0098\n",
      "Epoch 10/20\n",
      "67/67 [==============================] - 9s 130ms/step - loss: 8.8366e-04 - val_loss: 0.0099\n",
      "Epoch 11/20\n",
      "67/67 [==============================] - 9s 129ms/step - loss: 8.4785e-04 - val_loss: 0.0099\n",
      "Restoring model weights from the end of the best epoch.\n",
      "Epoch 00011: early stopping\n"
     ]
    }
   ],
   "source": [
    "history = model_bilstm.fit(X_train, y_train, validation_data=(X_val,y_val), \n",
    "                           batch_size=1024, epochs=20, callbacks=[early_s], verbose=1)"
   ]
  },
  {
   "cell_type": "markdown",
   "metadata": {
    "id": "vnoVplr7CCsA"
   },
   "source": [
    "# Prediction"
   ]
  },
  {
   "cell_type": "code",
   "execution_count": 89,
   "metadata": {
    "executionInfo": {
     "elapsed": 60342,
     "status": "ok",
     "timestamp": 1627847497929,
     "user": {
      "displayName": "Anshuman Sahu",
      "photoUrl": "https://lh3.googleusercontent.com/a-/AOh14Gg_F2kTM03kFCTaJIqCiFiEFKmADKcJvwiPZYCb=s64",
      "userId": "08186410225154793586"
     },
     "user_tz": -330
    },
    "id": "aB5Z3ZcG0rsz"
   },
   "outputs": [],
   "source": [
    "y_pred_title = model_bilstm.predict(embedded_docs_test_title)\n",
    "y_pred_head = model_bilstm.predict(embedded_docs_test_head)"
   ]
  },
  {
   "cell_type": "code",
   "execution_count": 90,
   "metadata": {
    "colab": {
     "base_uri": "https://localhost:8080/"
    },
    "executionInfo": {
     "elapsed": 27,
     "status": "ok",
     "timestamp": 1627847497937,
     "user": {
      "displayName": "Anshuman Sahu",
      "photoUrl": "https://lh3.googleusercontent.com/a-/AOh14Gg_F2kTM03kFCTaJIqCiFiEFKmADKcJvwiPZYCb=s64",
      "userId": "08186410225154793586"
     },
     "user_tz": -330
    },
    "id": "iPL-NproOIif",
    "outputId": "e3f83542-6631-426e-d6e6-c7a3a47b5045"
   },
   "outputs": [
    {
     "data": {
      "text/plain": [
       "array([[ 0.05054298],\n",
       "       [-0.05951595],\n",
       "       [-0.04143532],\n",
       "       ...,\n",
       "       [ 0.23324816],\n",
       "       [ 0.03336612],\n",
       "       [ 0.04790474]], dtype=float32)"
      ]
     },
     "execution_count": 90,
     "metadata": {
      "tags": []
     },
     "output_type": "execute_result"
    }
   ],
   "source": [
    "y_pred_title"
   ]
  },
  {
   "cell_type": "code",
   "execution_count": 91,
   "metadata": {
    "colab": {
     "base_uri": "https://localhost:8080/"
    },
    "executionInfo": {
     "elapsed": 25,
     "status": "ok",
     "timestamp": 1627847497938,
     "user": {
      "displayName": "Anshuman Sahu",
      "photoUrl": "https://lh3.googleusercontent.com/a-/AOh14Gg_F2kTM03kFCTaJIqCiFiEFKmADKcJvwiPZYCb=s64",
      "userId": "08186410225154793586"
     },
     "user_tz": -330
    },
    "id": "2d9HMILdOIfD",
    "outputId": "aee0892b-8358-4084-e39c-aaab3be22135"
   },
   "outputs": [
    {
     "data": {
      "text/plain": [
       "array([[-0.05522691],\n",
       "       [ 0.0406756 ],\n",
       "       [-0.00863103],\n",
       "       ...,\n",
       "       [-0.24284135],\n",
       "       [ 0.06850711],\n",
       "       [-0.00026917]], dtype=float32)"
      ]
     },
     "execution_count": 91,
     "metadata": {
      "tags": []
     },
     "output_type": "execute_result"
    }
   ],
   "source": [
    "y_pred_head"
   ]
  },
  {
   "cell_type": "code",
   "execution_count": null,
   "metadata": {
    "id": "MMRG1aP3OIcP"
   },
   "outputs": [],
   "source": []
  },
  {
   "cell_type": "markdown",
   "metadata": {
    "id": "BmdlZ4GCCGp0"
   },
   "source": [
    "# csv file"
   ]
  },
  {
   "cell_type": "code",
   "execution_count": 92,
   "metadata": {
    "colab": {
     "base_uri": "https://localhost:8080/"
    },
    "executionInfo": {
     "elapsed": 22,
     "status": "ok",
     "timestamp": 1627847497939,
     "user": {
      "displayName": "Anshuman Sahu",
      "photoUrl": "https://lh3.googleusercontent.com/a-/AOh14Gg_F2kTM03kFCTaJIqCiFiEFKmADKcJvwiPZYCb=s64",
      "userId": "08186410225154793586"
     },
     "user_tz": -330
    },
    "id": "_AJKJE_uOfm6",
    "outputId": "624c87de-33fd-40d1-9f43-8bef6afbaea9"
   },
   "outputs": [
    {
     "data": {
      "text/plain": [
       "array([ 0.05054298, -0.05951595, -0.04143532, ...,  0.23324816,\n",
       "        0.03336612,  0.04790474], dtype=float32)"
      ]
     },
     "execution_count": 92,
     "metadata": {
      "tags": []
     },
     "output_type": "execute_result"
    }
   ],
   "source": [
    "y_pred_title.reshape(1,-1)[0]"
   ]
  },
  {
   "cell_type": "code",
   "execution_count": null,
   "metadata": {
    "id": "YQ4yS_cNOfjG"
   },
   "outputs": [],
   "source": []
  },
  {
   "cell_type": "code",
   "execution_count": null,
   "metadata": {
    "id": "14uudEzDOfbr"
   },
   "outputs": [],
   "source": []
  },
  {
   "cell_type": "code",
   "execution_count": null,
   "metadata": {
    "id": "hedF-fqJOfX7"
   },
   "outputs": [],
   "source": []
  },
  {
   "cell_type": "code",
   "execution_count": 93,
   "metadata": {
    "colab": {
     "base_uri": "https://localhost:8080/"
    },
    "executionInfo": {
     "elapsed": 18,
     "status": "ok",
     "timestamp": 1627847497939,
     "user": {
      "displayName": "Anshuman Sahu",
      "photoUrl": "https://lh3.googleusercontent.com/a-/AOh14Gg_F2kTM03kFCTaJIqCiFiEFKmADKcJvwiPZYCb=s64",
      "userId": "08186410225154793586"
     },
     "user_tz": -330
    },
    "id": "5vwnRXGy0rwY",
    "outputId": "c5e00c46-beef-4939-e902-8048100d31b4"
   },
   "outputs": [
    {
     "name": "stdout",
     "output_type": "stream",
     "text": [
      "(37288, 3) (37288, 9)\n"
     ]
    }
   ],
   "source": [
    "sub = pd.DataFrame({'IDLink': test['IDLink'],\n",
    "                    'SentimentTitle': y_pred_title.reshape(1,-1)[0],\n",
    "                    'SentimentHeadline': y_pred_head.reshape(1,-1)[0]})\n",
    "print(sub.shape, test.shape)"
   ]
  },
  {
   "cell_type": "code",
   "execution_count": 94,
   "metadata": {
    "colab": {
     "base_uri": "https://localhost:8080/",
     "height": 358
    },
    "executionInfo": {
     "elapsed": 15,
     "status": "ok",
     "timestamp": 1627847497940,
     "user": {
      "displayName": "Anshuman Sahu",
      "photoUrl": "https://lh3.googleusercontent.com/a-/AOh14Gg_F2kTM03kFCTaJIqCiFiEFKmADKcJvwiPZYCb=s64",
      "userId": "08186410225154793586"
     },
     "user_tz": -330
    },
    "id": "PsioqwEb0rzm",
    "outputId": "157c361b-f73a-4420-cf88-dd9cd93de8e2"
   },
   "outputs": [
    {
     "data": {
      "text/html": [
       "<div>\n",
       "<style scoped>\n",
       "    .dataframe tbody tr th:only-of-type {\n",
       "        vertical-align: middle;\n",
       "    }\n",
       "\n",
       "    .dataframe tbody tr th {\n",
       "        vertical-align: top;\n",
       "    }\n",
       "\n",
       "    .dataframe thead th {\n",
       "        text-align: right;\n",
       "    }\n",
       "</style>\n",
       "<table border=\"1\" class=\"dataframe\">\n",
       "  <thead>\n",
       "    <tr style=\"text-align: right;\">\n",
       "      <th></th>\n",
       "      <th>IDLink</th>\n",
       "      <th>SentimentTitle</th>\n",
       "      <th>SentimentHeadline</th>\n",
       "    </tr>\n",
       "  </thead>\n",
       "  <tbody>\n",
       "    <tr>\n",
       "      <th>0</th>\n",
       "      <td>tFrqIR6Chj</td>\n",
       "      <td>0.050543</td>\n",
       "      <td>-0.055227</td>\n",
       "    </tr>\n",
       "    <tr>\n",
       "      <th>1</th>\n",
       "      <td>DVAaGErjlF</td>\n",
       "      <td>-0.059516</td>\n",
       "      <td>0.040676</td>\n",
       "    </tr>\n",
       "    <tr>\n",
       "      <th>2</th>\n",
       "      <td>OT9UIZm5M2</td>\n",
       "      <td>-0.041435</td>\n",
       "      <td>-0.008631</td>\n",
       "    </tr>\n",
       "    <tr>\n",
       "      <th>3</th>\n",
       "      <td>lflGp3q2Fj</td>\n",
       "      <td>-0.120141</td>\n",
       "      <td>-0.170874</td>\n",
       "    </tr>\n",
       "    <tr>\n",
       "      <th>4</th>\n",
       "      <td>zDYG0SoovZ</td>\n",
       "      <td>-0.063610</td>\n",
       "      <td>-0.045311</td>\n",
       "    </tr>\n",
       "    <tr>\n",
       "      <th>5</th>\n",
       "      <td>xwr9uOYgEj</td>\n",
       "      <td>0.003976</td>\n",
       "      <td>0.014327</td>\n",
       "    </tr>\n",
       "    <tr>\n",
       "      <th>6</th>\n",
       "      <td>X8BqN4I4xZ</td>\n",
       "      <td>-0.035258</td>\n",
       "      <td>0.184739</td>\n",
       "    </tr>\n",
       "    <tr>\n",
       "      <th>7</th>\n",
       "      <td>ESXBINkNt4</td>\n",
       "      <td>0.085285</td>\n",
       "      <td>0.132586</td>\n",
       "    </tr>\n",
       "    <tr>\n",
       "      <th>8</th>\n",
       "      <td>uUjZusP8FU</td>\n",
       "      <td>-0.135507</td>\n",
       "      <td>0.027662</td>\n",
       "    </tr>\n",
       "    <tr>\n",
       "      <th>9</th>\n",
       "      <td>VIxYwukhvK</td>\n",
       "      <td>0.105625</td>\n",
       "      <td>-0.011478</td>\n",
       "    </tr>\n",
       "  </tbody>\n",
       "</table>\n",
       "</div>"
      ],
      "text/plain": [
       "       IDLink  SentimentTitle  SentimentHeadline\n",
       "0  tFrqIR6Chj        0.050543          -0.055227\n",
       "1  DVAaGErjlF       -0.059516           0.040676\n",
       "2  OT9UIZm5M2       -0.041435          -0.008631\n",
       "3  lflGp3q2Fj       -0.120141          -0.170874\n",
       "4  zDYG0SoovZ       -0.063610          -0.045311\n",
       "5  xwr9uOYgEj        0.003976           0.014327\n",
       "6  X8BqN4I4xZ       -0.035258           0.184739\n",
       "7  ESXBINkNt4        0.085285           0.132586\n",
       "8  uUjZusP8FU       -0.135507           0.027662\n",
       "9  VIxYwukhvK        0.105625          -0.011478"
      ]
     },
     "execution_count": 94,
     "metadata": {
      "tags": []
     },
     "output_type": "execute_result"
    }
   ],
   "source": [
    "sub.head(10)"
   ]
  },
  {
   "cell_type": "code",
   "execution_count": 95,
   "metadata": {
    "executionInfo": {
     "elapsed": 14,
     "status": "ok",
     "timestamp": 1627847497941,
     "user": {
      "displayName": "Anshuman Sahu",
      "photoUrl": "https://lh3.googleusercontent.com/a-/AOh14Gg_F2kTM03kFCTaJIqCiFiEFKmADKcJvwiPZYCb=s64",
      "userId": "08186410225154793586"
     },
     "user_tz": -330
    },
    "id": "XfuwOZeYJ9gT"
   },
   "outputs": [],
   "source": [
    "sub.to_csv('/content/drive/MyDrive/python/zs news/sub_file2.csv', index=False)"
   ]
  },
  {
   "cell_type": "code",
   "execution_count": 70,
   "metadata": {
    "executionInfo": {
     "elapsed": 10,
     "status": "ok",
     "timestamp": 1627845594408,
     "user": {
      "displayName": "Anshuman Sahu",
      "photoUrl": "https://lh3.googleusercontent.com/a-/AOh14Gg_F2kTM03kFCTaJIqCiFiEFKmADKcJvwiPZYCb=s64",
      "userId": "08186410225154793586"
     },
     "user_tz": -330
    },
    "id": "yCZ6wcpbJ9jM"
   },
   "outputs": [],
   "source": []
  },
  {
   "cell_type": "code",
   "execution_count": 70,
   "metadata": {
    "executionInfo": {
     "elapsed": 48475,
     "status": "ok",
     "timestamp": 1627845642873,
     "user": {
      "displayName": "Anshuman Sahu",
      "photoUrl": "https://lh3.googleusercontent.com/a-/AOh14Gg_F2kTM03kFCTaJIqCiFiEFKmADKcJvwiPZYCb=s64",
      "userId": "08186410225154793586"
     },
     "user_tz": -330
    },
    "id": "h4DB_dAsJ9mj"
   },
   "outputs": [],
   "source": []
  }
 ],
 "metadata": {
  "accelerator": "GPU",
  "colab": {
   "authorship_tag": "ABX9TyMl3trWE1A6CcpSFCn3EXdS",
   "collapsed_sections": [],
   "mount_file_id": "1VOtPC0W1Cbjdnwm96nsZEE6vo-Tj2jua",
   "name": "news.ipynb",
   "provenance": []
  },
  "kernelspec": {
   "display_name": "Python 3",
   "language": "python",
   "name": "python3"
  },
  "language_info": {
   "codemirror_mode": {
    "name": "ipython",
    "version": 3
   },
   "file_extension": ".py",
   "mimetype": "text/x-python",
   "name": "python",
   "nbconvert_exporter": "python",
   "pygments_lexer": "ipython3",
   "version": "3.8.3"
  }
 },
 "nbformat": 4,
 "nbformat_minor": 1
}
